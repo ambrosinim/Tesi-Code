{
  "nbformat": 4,
  "nbformat_minor": 0,
  "metadata": {
    "accelerator": "GPU",
    "colab": {
      "name": "Full_trainable VGG16.ipynb",
      "provenance": []
    },
    "kernelspec": {
      "display_name": "Python 3",
      "name": "python3"
    }
  },
  "cells": [
    {
      "cell_type": "code",
      "metadata": {
        "id": "t38_kOEdoQBK"
      },
      "source": [
        "#%cd\n",
        "#shutil.rmtree('/content/hands_dataset', ignore_errors=True) #non usarloo"
      ],
      "execution_count": null,
      "outputs": []
    },
    {
      "cell_type": "code",
      "metadata": {
        "colab": {
          "base_uri": "https://localhost:8080/"
        },
        "id": "qE3xDsistYuc",
        "outputId": "dafd12f5-0370-46e1-9fd8-f232f16ef506"
      },
      "source": [
        "%cd \n",
        "%cd ../content\n",
        "!pwd"
      ],
      "execution_count": null,
      "outputs": [
        {
          "output_type": "stream",
          "text": [
            "/root\n",
            "/content\n",
            "/content\n"
          ],
          "name": "stdout"
        }
      ]
    },
    {
      "cell_type": "code",
      "metadata": {
        "id": "7dYWw579vFHC"
      },
      "source": [
        "import numpy as np\n",
        "import math\n",
        "import tensorflow as tf\n",
        "from tensorflow import keras\n",
        "from tensorflow.keras.models import Sequential\n",
        "from tensorflow.keras.layers import Activation, Dense, Flatten, BatchNormalization, Conv2D, MaxPool2D, Dropout\n",
        "from tensorflow.keras.optimizers import Adam\n",
        "from tensorflow.keras.metrics import categorical_crossentropy\n",
        "from tensorflow.keras.preprocessing.image import ImageDataGenerator\n",
        "from tensorflow.keras.applications import VGG16\n",
        "from tensorflow.keras.applications.vgg16 import preprocess_input, decode_predictions\n",
        "from sklearn.metrics import confusion_matrix\n",
        "from tensorflow.keras.models import Model\n",
        "from sklearn.metrics import confusion_matrix\n",
        "import itertools\n",
        "import itertools\n",
        "import os\n",
        "import shutil\n",
        "import random\n",
        "import glob\n",
        "import matplotlib.pyplot as plt\n",
        "import warnings"
      ],
      "execution_count": null,
      "outputs": []
    },
    {
      "cell_type": "code",
      "metadata": {
        "id": "cz__6RJIf2yr"
      },
      "source": [
        "def path_join(dirname, filenames):\n",
        "    return [os.path.join(dirname, filename) for filename in filenames]"
      ],
      "execution_count": null,
      "outputs": []
    },
    {
      "cell_type": "code",
      "metadata": {
        "colab": {
          "base_uri": "https://localhost:8080/"
        },
        "id": "7tjnYOhGRDqn",
        "outputId": "ed359cff-57ab-44bd-be33-ed3afa248ab6"
      },
      "source": [
        "\n",
        "!pwd\n",
        "\n",
        "!git clone https://github.com/tesiiscomingson/hands_dataset.git"
      ],
      "execution_count": null,
      "outputs": [
        {
          "output_type": "stream",
          "text": [
            "/content\n",
            "Cloning into 'hands_dataset'...\n",
            "remote: Enumerating objects: 2696, done.\u001b[K\n",
            "remote: Total 2696 (delta 0), reused 0 (delta 0), pack-reused 2696\u001b[K\n",
            "Receiving objects: 100% (2696/2696), 22.06 MiB | 32.09 MiB/s, done.\n",
            "Resolving deltas: 100% (863/863), done.\n"
          ],
          "name": "stdout"
        }
      ]
    },
    {
      "cell_type": "code",
      "metadata": {
        "colab": {
          "base_uri": "https://localhost:8080/"
        },
        "id": "M9pBu_B4SYeu",
        "outputId": "5906a286-2398-4b81-a127-8d925d23db03"
      },
      "source": [
        "%cd hands_dataset\n",
        "!ls\n"
      ],
      "execution_count": null,
      "outputs": [
        {
          "output_type": "stream",
          "text": [
            "/content/hands_dataset\n",
            "Dataset  Examples  LICENSE  README.md\n"
          ],
          "name": "stdout"
        }
      ]
    },
    {
      "cell_type": "code",
      "metadata": {
        "colab": {
          "base_uri": "https://localhost:8080/"
        },
        "id": "QzR5TYl6VLR3",
        "outputId": "c28f1d0a-04ad-4667-db30-e2464619bfa1"
      },
      "source": [
        "!rm -rf Examples  LICENSE  README.md\n",
        "!ls"
      ],
      "execution_count": null,
      "outputs": [
        {
          "output_type": "stream",
          "text": [
            "Dataset\n"
          ],
          "name": "stdout"
        }
      ]
    },
    {
      "cell_type": "code",
      "metadata": {
        "colab": {
          "base_uri": "https://localhost:8080/"
        },
        "id": "yFXDJ2uIW5hX",
        "outputId": "de3d1cd0-4115-4efd-8d3c-1e9a50492455"
      },
      "source": [
        "dir_path = os.path.dirname(os.path.realpath('FT_mobilenet.ipynb'))\n",
        "print(dir_path)"
      ],
      "execution_count": null,
      "outputs": [
        {
          "output_type": "stream",
          "text": [
            "/content/hands_dataset\n"
          ],
          "name": "stdout"
        }
      ]
    },
    {
      "cell_type": "code",
      "metadata": {
        "colab": {
          "base_uri": "https://localhost:8080/"
        },
        "id": "RWscbLxqYY7K",
        "outputId": "a33d158b-df78-4d80-f17c-f83724ea8d3d"
      },
      "source": [
        "!pwd"
      ],
      "execution_count": null,
      "outputs": [
        {
          "output_type": "stream",
          "text": [
            "/content/hands_dataset\n"
          ],
          "name": "stdout"
        }
      ]
    },
    {
      "cell_type": "code",
      "metadata": {
        "colab": {
          "base_uri": "https://localhost:8080/"
        },
        "id": "RU3U0KJfZcj3",
        "outputId": "8c5e8e31-c39c-4299-8469-f19a8fc76913"
      },
      "source": [
        "%cd /content/hands_dataset/Dataset/\n",
        "%mkdir train\n",
        "%mkdir test\n",
        "%mkdir valid\n",
        "%mv 0/ 1/ 2 / 3/ 4/ 5/ 6/ 7/ 8/ 9/ train/"
      ],
      "execution_count": null,
      "outputs": [
        {
          "output_type": "stream",
          "text": [
            "/content/hands_dataset/Dataset\n",
            "mv: cannot move '/' to 'train': Device or resource busy\n"
          ],
          "name": "stdout"
        }
      ]
    },
    {
      "cell_type": "code",
      "metadata": {
        "colab": {
          "base_uri": "https://localhost:8080/"
        },
        "id": "Kp9N9lbqXe6I",
        "outputId": "86259cc3-f334-4ebb-8c94-ed0596985743"
      },
      "source": [
        "#%cd -\n",
        "!pwd\n",
        "%cd valid\n",
        "%mkdir 0/ 1/ 2 / 3/ 4/ 5/ 6/ 7/ 8/ 9/\n",
        "%cd ../test\n",
        "%mkdir 0/ 1/ 2 / 3/ 4/ 5/ 6/ 7/ 8/ 9/"
      ],
      "execution_count": null,
      "outputs": [
        {
          "output_type": "stream",
          "text": [
            "/content/hands_dataset/Dataset\n",
            "/content/hands_dataset/Dataset/valid\n",
            "mkdir: cannot create directory ‘/’: File exists\n",
            "/content/hands_dataset/Dataset/test\n",
            "mkdir: cannot create directory ‘/’: File exists\n"
          ],
          "name": "stdout"
        }
      ]
    },
    {
      "cell_type": "code",
      "metadata": {
        "colab": {
          "base_uri": "https://localhost:8080/"
        },
        "id": "X1m7X0OKO0kT",
        "outputId": "3f0e71d8-d085-4c78-d2be-0dfc53f9399b"
      },
      "source": [
        "\n",
        "!pwd"
      ],
      "execution_count": null,
      "outputs": [
        {
          "output_type": "stream",
          "text": [
            "/content/hands_dataset/Dataset/test\n"
          ],
          "name": "stdout"
        }
      ]
    },
    {
      "cell_type": "code",
      "metadata": {
        "id": "X3qRXpHZYIXO"
      },
      "source": [
        "%%bash\n",
        "cd ../train\n",
        "for ((i=0; i<=9; i++)); do\n",
        "  a=$(find $i/ -type f | shuf -n 30)\n",
        "  mv $a ../valid/$i/\n",
        "  b=$(find $i/ -type f | shuf -n 5)\n",
        "  mv $b ../test/$i/\n",
        "done\n"
      ],
      "execution_count": null,
      "outputs": []
    },
    {
      "cell_type": "code",
      "metadata": {
        "colab": {
          "base_uri": "https://localhost:8080/"
        },
        "id": "HLtRKWHbo9DQ",
        "outputId": "98f3e29d-d152-4e4f-d15e-814425cae758"
      },
      "source": [
        "%cd ../..\n",
        "!pwd"
      ],
      "execution_count": null,
      "outputs": [
        {
          "output_type": "stream",
          "text": [
            "/content/hands_dataset\n",
            "/content/hands_dataset\n"
          ],
          "name": "stdout"
        }
      ]
    },
    {
      "cell_type": "code",
      "metadata": {
        "id": "mEBeEz7iC47D"
      },
      "source": [
        "train_path = 'Dataset/train'\n",
        "valid_path = 'Dataset/valid'\n",
        "test_path = 'Dataset/test'  "
      ],
      "execution_count": null,
      "outputs": []
    },
    {
      "cell_type": "code",
      "metadata": {
        "colab": {
          "base_uri": "https://localhost:8080/"
        },
        "id": "dDEl0O27DeM_",
        "outputId": "ff58d514-8ee7-4bc0-b6e5-83d1bcc78a1f"
      },
      "source": [
        "train_batches = ImageDataGenerator(preprocessing_function=keras.applications.mobilenet.preprocess_input).flow_from_directory(\n",
        "    train_path, target_size=(224, 224), batch_size=10)\n",
        "valid_batches = ImageDataGenerator(preprocessing_function=keras.applications.mobilenet.preprocess_input).flow_from_directory(\n",
        "    valid_path, target_size=(224, 224), batch_size=10)\n",
        "test_batches = ImageDataGenerator(preprocessing_function=keras.applications.mobilenet.preprocess_input).flow_from_directory(\n",
        "    test_path, target_size=(224, 224), batch_size=10, shuffle=False)"
      ],
      "execution_count": null,
      "outputs": [
        {
          "output_type": "stream",
          "text": [
            "Found 2172 images belonging to 10 classes.\n",
            "Found 300 images belonging to 10 classes.\n",
            "Found 50 images belonging to 10 classes.\n"
          ],
          "name": "stdout"
        }
      ]
    },
    {
      "cell_type": "code",
      "metadata": {
        "id": "k0BsgGHMc8wN",
        "colab": {
          "base_uri": "https://localhost:8080/"
        },
        "outputId": "e1703f7e-e024-4f52-eae4-a7ce369ad323"
      },
      "source": [
        "model = VGG16(include_top=True, weights='imagenet')"
      ],
      "execution_count": null,
      "outputs": [
        {
          "output_type": "stream",
          "text": [
            "Downloading data from https://storage.googleapis.com/tensorflow/keras-applications/vgg16/vgg16_weights_tf_dim_ordering_tf_kernels.h5\n",
            "553467904/553467096 [==============================] - 3s 0us/step\n"
          ],
          "name": "stdout"
        }
      ]
    },
    {
      "cell_type": "code",
      "metadata": {
        "id": "WnpHVaTgfoZn"
      },
      "source": [
        "input_shape = model.layers[0].output_shape[0][1:3]"
      ],
      "execution_count": null,
      "outputs": []
    },
    {
      "cell_type": "code",
      "metadata": {
        "id": "5vmID_mOdBhg"
      },
      "source": [
        "datagen_train = ImageDataGenerator(\n",
        "      rescale=1./255,\n",
        "      brightness_range=[0.7,1.1],\n",
        "      rotation_range=20,\n",
        "      width_shift_range=0.1,\n",
        "      height_shift_range=0.1,\n",
        "      shear_range=0.1,\n",
        "      zoom_range=[0.9, 1.2],\n",
        "      horizontal_flip=False,\n",
        "      vertical_flip=False,\n",
        "      fill_mode='nearest')"
      ],
      "execution_count": null,
      "outputs": []
    },
    {
      "cell_type": "code",
      "metadata": {
        "id": "NSh2l2HudPa4"
      },
      "source": [
        "datagen_test = ImageDataGenerator(rescale=1./255)"
      ],
      "execution_count": null,
      "outputs": []
    },
    {
      "cell_type": "code",
      "metadata": {
        "id": "oBgi3pXVdU3Z"
      },
      "source": [
        "batch_size = 20"
      ],
      "execution_count": null,
      "outputs": []
    },
    {
      "cell_type": "markdown",
      "metadata": {
        "id": "NxP8Hn6adc9p"
      },
      "source": [
        "\n",
        "We can save the randomly transformed images during training, so as to inspect whether they have been overly distorted, so we have to adjust the parameters for the data-generator above."
      ]
    },
    {
      "cell_type": "code",
      "metadata": {
        "id": "WR4mZeN0dQ1d"
      },
      "source": [
        "\n",
        "if True:\n",
        "    save_to_dir = None\n",
        "else:\n",
        "    save_to_dir='augmented_images/'"
      ],
      "execution_count": null,
      "outputs": []
    },
    {
      "cell_type": "code",
      "metadata": {
        "colab": {
          "base_uri": "https://localhost:8080/"
        },
        "id": "qM7z-AW0dk-b",
        "outputId": "593fddd5-36a5-441e-d93c-c16d81b7c85a"
      },
      "source": [
        "\n",
        "generator_train = datagen_train.flow_from_directory(directory=train_path,\n",
        "                                                    target_size=input_shape,\n",
        "                                                    batch_size=batch_size,\n",
        "                                                    shuffle=True,\n",
        "                                                    save_to_dir=save_to_dir)"
      ],
      "execution_count": null,
      "outputs": [
        {
          "output_type": "stream",
          "text": [
            "Found 2172 images belonging to 10 classes.\n"
          ],
          "name": "stdout"
        }
      ]
    },
    {
      "cell_type": "code",
      "metadata": {
        "colab": {
          "base_uri": "https://localhost:8080/"
        },
        "id": "UH_W61eJd2xT",
        "outputId": "c9b2c936-23f3-4256-80ec-dc40686358c3"
      },
      "source": [
        "generator_test = datagen_test.flow_from_directory(directory=valid_path,\n",
        "                                                  target_size=input_shape,\n",
        "                                                  batch_size=batch_size,\n",
        "                                                  shuffle=False)"
      ],
      "execution_count": null,
      "outputs": [
        {
          "output_type": "stream",
          "text": [
            "Found 300 images belonging to 10 classes.\n"
          ],
          "name": "stdout"
        }
      ]
    },
    {
      "cell_type": "code",
      "metadata": {
        "colab": {
          "base_uri": "https://localhost:8080/"
        },
        "id": "K7u6S6Lid4yh",
        "outputId": "9c9b960b-db31-4fee-c745-f483f3a1cb89"
      },
      "source": [
        "steps_test = generator_test.n / batch_size\n",
        "steps_test"
      ],
      "execution_count": null,
      "outputs": [
        {
          "output_type": "execute_result",
          "data": {
            "text/plain": [
              "15.0"
            ]
          },
          "metadata": {
            "tags": []
          },
          "execution_count": 25
        }
      ]
    },
    {
      "cell_type": "code",
      "metadata": {
        "id": "2x-Ops6Xd4l9"
      },
      "source": [
        "image_paths_train = path_join(train_path, generator_train.filenames)\n",
        "image_paths_test = path_join(valid_path, generator_test.filenames)"
      ],
      "execution_count": null,
      "outputs": []
    },
    {
      "cell_type": "code",
      "metadata": {
        "id": "o71pRKr_ePfy"
      },
      "source": [
        "cls_train = generator_train.classes\n",
        "cls_test = generator_test.classes"
      ],
      "execution_count": null,
      "outputs": []
    },
    {
      "cell_type": "code",
      "metadata": {
        "colab": {
          "base_uri": "https://localhost:8080/"
        },
        "id": "i9nlFUuleWFI",
        "outputId": "80f06440-dbc9-4e55-c257-334565c50b6a"
      },
      "source": [
        "class_names = list(generator_train.class_indices.keys())\n",
        "class_names"
      ],
      "execution_count": null,
      "outputs": [
        {
          "output_type": "execute_result",
          "data": {
            "text/plain": [
              "['0', '1', '2', '3', '4', '5', '6', '7', '8', '9']"
            ]
          },
          "metadata": {
            "tags": []
          },
          "execution_count": 28
        }
      ]
    },
    {
      "cell_type": "code",
      "metadata": {
        "colab": {
          "base_uri": "https://localhost:8080/"
        },
        "id": "-2PllDb0eZaA",
        "outputId": "dead233b-3e3a-4520-f1e8-3002079d6d65"
      },
      "source": [
        "\n",
        "num_classes = generator_train.num_classes\n",
        "num_classes"
      ],
      "execution_count": null,
      "outputs": [
        {
          "output_type": "execute_result",
          "data": {
            "text/plain": [
              "10"
            ]
          },
          "metadata": {
            "tags": []
          },
          "execution_count": 29
        }
      ]
    },
    {
      "cell_type": "code",
      "metadata": {
        "colab": {
          "base_uri": "https://localhost:8080/"
        },
        "id": "25GiOtILe4QA",
        "outputId": "e9d65347-c7ec-40db-a719-856f2b87cbe4"
      },
      "source": [
        "model.summary()"
      ],
      "execution_count": null,
      "outputs": [
        {
          "output_type": "stream",
          "text": [
            "Model: \"vgg16\"\n",
            "_________________________________________________________________\n",
            "Layer (type)                 Output Shape              Param #   \n",
            "=================================================================\n",
            "input_1 (InputLayer)         [(None, 224, 224, 3)]     0         \n",
            "_________________________________________________________________\n",
            "block1_conv1 (Conv2D)        (None, 224, 224, 64)      1792      \n",
            "_________________________________________________________________\n",
            "block1_conv2 (Conv2D)        (None, 224, 224, 64)      36928     \n",
            "_________________________________________________________________\n",
            "block1_pool (MaxPooling2D)   (None, 112, 112, 64)      0         \n",
            "_________________________________________________________________\n",
            "block2_conv1 (Conv2D)        (None, 112, 112, 128)     73856     \n",
            "_________________________________________________________________\n",
            "block2_conv2 (Conv2D)        (None, 112, 112, 128)     147584    \n",
            "_________________________________________________________________\n",
            "block2_pool (MaxPooling2D)   (None, 56, 56, 128)       0         \n",
            "_________________________________________________________________\n",
            "block3_conv1 (Conv2D)        (None, 56, 56, 256)       295168    \n",
            "_________________________________________________________________\n",
            "block3_conv2 (Conv2D)        (None, 56, 56, 256)       590080    \n",
            "_________________________________________________________________\n",
            "block3_conv3 (Conv2D)        (None, 56, 56, 256)       590080    \n",
            "_________________________________________________________________\n",
            "block3_pool (MaxPooling2D)   (None, 28, 28, 256)       0         \n",
            "_________________________________________________________________\n",
            "block4_conv1 (Conv2D)        (None, 28, 28, 512)       1180160   \n",
            "_________________________________________________________________\n",
            "block4_conv2 (Conv2D)        (None, 28, 28, 512)       2359808   \n",
            "_________________________________________________________________\n",
            "block4_conv3 (Conv2D)        (None, 28, 28, 512)       2359808   \n",
            "_________________________________________________________________\n",
            "block4_pool (MaxPooling2D)   (None, 14, 14, 512)       0         \n",
            "_________________________________________________________________\n",
            "block5_conv1 (Conv2D)        (None, 14, 14, 512)       2359808   \n",
            "_________________________________________________________________\n",
            "block5_conv2 (Conv2D)        (None, 14, 14, 512)       2359808   \n",
            "_________________________________________________________________\n",
            "block5_conv3 (Conv2D)        (None, 14, 14, 512)       2359808   \n",
            "_________________________________________________________________\n",
            "block5_pool (MaxPooling2D)   (None, 7, 7, 512)         0         \n",
            "_________________________________________________________________\n",
            "flatten (Flatten)            (None, 25088)             0         \n",
            "_________________________________________________________________\n",
            "fc1 (Dense)                  (None, 4096)              102764544 \n",
            "_________________________________________________________________\n",
            "fc2 (Dense)                  (None, 4096)              16781312  \n",
            "_________________________________________________________________\n",
            "predictions (Dense)          (None, 1000)              4097000   \n",
            "=================================================================\n",
            "Total params: 138,357,544\n",
            "Trainable params: 138,357,544\n",
            "Non-trainable params: 0\n",
            "_________________________________________________________________\n"
          ],
          "name": "stdout"
        }
      ]
    },
    {
      "cell_type": "code",
      "metadata": {
        "id": "Qsy6JocLeV7c"
      },
      "source": [
        "transfer_layer = model.get_layer('block5_pool')"
      ],
      "execution_count": null,
      "outputs": []
    },
    {
      "cell_type": "code",
      "metadata": {
        "colab": {
          "base_uri": "https://localhost:8080/"
        },
        "id": "_v1OwCZlgXir",
        "outputId": "1c445292-eea4-4c2d-ff77-13def9ff0a73"
      },
      "source": [
        "transfer_layer.output"
      ],
      "execution_count": null,
      "outputs": [
        {
          "output_type": "execute_result",
          "data": {
            "text/plain": [
              "<KerasTensor: shape=(None, 7, 7, 512) dtype=float32 (created by layer 'block5_pool')>"
            ]
          },
          "metadata": {
            "tags": []
          },
          "execution_count": 32
        }
      ]
    },
    {
      "cell_type": "code",
      "metadata": {
        "id": "xr4YLiCEgaEJ"
      },
      "source": [
        "conv_model = Model(inputs=model.input,\n",
        "                   outputs=transfer_layer.output)"
      ],
      "execution_count": null,
      "outputs": []
    },
    {
      "cell_type": "code",
      "metadata": {
        "id": "-YXnm1O2geJ1"
      },
      "source": [
        "# Start a new Keras Sequential model.\n",
        "new_model = Sequential()\n",
        "\n",
        "# Add the convolutional part of the VGG16 model from above.\n",
        "new_model.add(conv_model)\n",
        "\n",
        "# Flatten the output of the VGG16 model because it is from a\n",
        "# convolutional layer.\n",
        "new_model.add(Flatten())\n",
        "\n",
        "# Add a dense layer.\n",
        "# This is for combining features that the VGG16 model has\n",
        "# recognized in the image.\n",
        "new_model.add(Dense(1024, activation='relu'))\n",
        "\n",
        "# Add a dropout-layer which may prevent overfitting and\n",
        "# improve generalization ability to unseen data e.g. the test-set.\n",
        "new_model.add(Dropout(0.5))\n",
        "\n",
        "# Add the final layer for the actual classification.\n",
        "new_model.add(Dense(num_classes, activation='softmax'))"
      ],
      "execution_count": null,
      "outputs": []
    },
    {
      "cell_type": "code",
      "metadata": {
        "id": "fD4JEC_XgqoV"
      },
      "source": [
        "optimizer = Adam(lr=1e-5)"
      ],
      "execution_count": null,
      "outputs": []
    },
    {
      "cell_type": "code",
      "metadata": {
        "id": "MxmNG38uguTW"
      },
      "source": [
        "loss = 'categorical_crossentropy'"
      ],
      "execution_count": null,
      "outputs": []
    },
    {
      "cell_type": "code",
      "metadata": {
        "id": "Bh5ESIAEgwag"
      },
      "source": [
        "metrics = ['accuracy']"
      ],
      "execution_count": null,
      "outputs": []
    },
    {
      "cell_type": "code",
      "metadata": {
        "id": "v9UbwqTRgz36"
      },
      "source": [
        "\n",
        "def print_layer_trainable(mod):\n",
        "    for layer in mod.layers:\n",
        "        print(\"{0}:\\t{1}\".format(layer.trainable, layer.name))"
      ],
      "execution_count": null,
      "outputs": []
    },
    {
      "cell_type": "code",
      "metadata": {
        "colab": {
          "base_uri": "https://localhost:8080/"
        },
        "id": "2XbLCmuOg4jw",
        "outputId": "a21ca07e-aee7-4f4e-e7fb-843283ed147e"
      },
      "source": [
        "print_layer_trainable(conv_model)"
      ],
      "execution_count": null,
      "outputs": [
        {
          "output_type": "stream",
          "text": [
            "True:\tinput_1\n",
            "True:\tblock1_conv1\n",
            "True:\tblock1_conv2\n",
            "True:\tblock1_pool\n",
            "True:\tblock2_conv1\n",
            "True:\tblock2_conv2\n",
            "True:\tblock2_pool\n",
            "True:\tblock3_conv1\n",
            "True:\tblock3_conv2\n",
            "True:\tblock3_conv3\n",
            "True:\tblock3_pool\n",
            "True:\tblock4_conv1\n",
            "True:\tblock4_conv2\n",
            "True:\tblock4_conv3\n",
            "True:\tblock4_pool\n",
            "True:\tblock5_conv1\n",
            "True:\tblock5_conv2\n",
            "True:\tblock5_conv3\n",
            "True:\tblock5_pool\n"
          ],
          "name": "stdout"
        }
      ]
    },
    {
      "cell_type": "code",
      "metadata": {
        "id": "k0w1aPwSg7CO"
      },
      "source": [
        "for layer in conv_model.layers:\n",
        "    layer.trainable = False"
      ],
      "execution_count": null,
      "outputs": []
    },
    {
      "cell_type": "code",
      "metadata": {
        "colab": {
          "base_uri": "https://localhost:8080/"
        },
        "id": "qNg8YgV_hC3V",
        "outputId": "8a694d8d-6381-4c2b-8405-b17e6b50313e"
      },
      "source": [
        "\n",
        "print_layer_trainable(model)"
      ],
      "execution_count": null,
      "outputs": [
        {
          "output_type": "stream",
          "text": [
            "False:\tinput_1\n",
            "False:\tblock1_conv1\n",
            "False:\tblock1_conv2\n",
            "False:\tblock1_pool\n",
            "False:\tblock2_conv1\n",
            "False:\tblock2_conv2\n",
            "False:\tblock2_pool\n",
            "False:\tblock3_conv1\n",
            "False:\tblock3_conv2\n",
            "False:\tblock3_conv3\n",
            "False:\tblock3_pool\n",
            "False:\tblock4_conv1\n",
            "False:\tblock4_conv2\n",
            "False:\tblock4_conv3\n",
            "False:\tblock4_pool\n",
            "False:\tblock5_conv1\n",
            "False:\tblock5_conv2\n",
            "False:\tblock5_conv3\n",
            "False:\tblock5_pool\n",
            "True:\tflatten\n",
            "True:\tfc1\n",
            "True:\tfc2\n",
            "True:\tpredictions\n"
          ],
          "name": "stdout"
        }
      ]
    },
    {
      "cell_type": "code",
      "metadata": {
        "colab": {
          "base_uri": "https://localhost:8080/"
        },
        "id": "5mZh9GZctNSP",
        "outputId": "294ef5fe-de56-47e6-ed65-3f9fd1895062"
      },
      "source": [
        "new_model.summary()"
      ],
      "execution_count": null,
      "outputs": [
        {
          "output_type": "stream",
          "text": [
            "Model: \"sequential\"\n",
            "_________________________________________________________________\n",
            "Layer (type)                 Output Shape              Param #   \n",
            "=================================================================\n",
            "model (Functional)           (None, 7, 7, 512)         14714688  \n",
            "_________________________________________________________________\n",
            "flatten (Flatten)            (None, 25088)             0         \n",
            "_________________________________________________________________\n",
            "dense (Dense)                (None, 1024)              25691136  \n",
            "_________________________________________________________________\n",
            "dropout (Dropout)            (None, 1024)              0         \n",
            "_________________________________________________________________\n",
            "dense_1 (Dense)              (None, 10)                10250     \n",
            "=================================================================\n",
            "Total params: 40,416,074\n",
            "Trainable params: 25,701,386\n",
            "Non-trainable params: 14,714,688\n",
            "_________________________________________________________________\n"
          ],
          "name": "stdout"
        }
      ]
    },
    {
      "cell_type": "code",
      "metadata": {
        "id": "7cl9BgnUhDep"
      },
      "source": [
        "new_model.compile(optimizer=optimizer, loss=loss, metrics=metrics)"
      ],
      "execution_count": null,
      "outputs": []
    },
    {
      "cell_type": "code",
      "metadata": {
        "id": "DZ_kaEM-ifz6"
      },
      "source": [
        "\n",
        "epochs = 30\n",
        "steps_per_epoch = 1700/20"
      ],
      "execution_count": null,
      "outputs": []
    },
    {
      "cell_type": "code",
      "metadata": {
        "colab": {
          "base_uri": "https://localhost:8080/"
        },
        "id": "-cofD00rjGwB",
        "outputId": "cd4006ef-b368-45f9-b2aa-df458915c589"
      },
      "source": [
        "history = new_model.fit_generator(train_batches, steps_per_epoch=18,validation_data=valid_batches, validation_steps=3,epochs=60, verbose=2)\n"
      ],
      "execution_count": null,
      "outputs": [
        {
          "output_type": "stream",
          "text": [
            "/usr/local/lib/python3.7/dist-packages/tensorflow/python/keras/engine/training.py:1844: UserWarning: `Model.fit_generator` is deprecated and will be removed in a future version. Please use `Model.fit`, which supports generators.\n",
            "  warnings.warn('`Model.fit_generator` is deprecated and '\n"
          ],
          "name": "stderr"
        },
        {
          "output_type": "stream",
          "text": [
            "Epoch 1/60\n",
            "18/18 - 34s - loss: 2.6142 - accuracy: 0.1278 - val_loss: 2.1772 - val_accuracy: 0.3000\n",
            "Epoch 2/60\n",
            "18/18 - 1s - loss: 2.2524 - accuracy: 0.2722 - val_loss: 1.7951 - val_accuracy: 0.5000\n",
            "Epoch 3/60\n",
            "18/18 - 1s - loss: 2.0489 - accuracy: 0.2611 - val_loss: 1.6127 - val_accuracy: 0.5000\n",
            "Epoch 4/60\n",
            "18/18 - 1s - loss: 1.7414 - accuracy: 0.4222 - val_loss: 1.3553 - val_accuracy: 0.6333\n",
            "Epoch 5/60\n",
            "18/18 - 1s - loss: 1.7007 - accuracy: 0.4444 - val_loss: 1.3797 - val_accuracy: 0.7667\n",
            "Epoch 6/60\n",
            "18/18 - 1s - loss: 1.5533 - accuracy: 0.4833 - val_loss: 1.3156 - val_accuracy: 0.6667\n",
            "Epoch 7/60\n",
            "18/18 - 1s - loss: 1.1943 - accuracy: 0.6500 - val_loss: 0.9729 - val_accuracy: 0.8333\n",
            "Epoch 8/60\n",
            "18/18 - 1s - loss: 1.1970 - accuracy: 0.6667 - val_loss: 0.9321 - val_accuracy: 0.8000\n",
            "Epoch 9/60\n",
            "18/18 - 1s - loss: 1.1578 - accuracy: 0.6500 - val_loss: 1.0007 - val_accuracy: 0.7667\n",
            "Epoch 10/60\n",
            "18/18 - 1s - loss: 0.9552 - accuracy: 0.7556 - val_loss: 0.7718 - val_accuracy: 0.8667\n",
            "Epoch 11/60\n",
            "18/18 - 2s - loss: 0.9141 - accuracy: 0.7278 - val_loss: 0.7382 - val_accuracy: 0.8333\n",
            "Epoch 12/60\n",
            "18/18 - 2s - loss: 0.8294 - accuracy: 0.7833 - val_loss: 0.7067 - val_accuracy: 0.9000\n",
            "Epoch 13/60\n",
            "18/18 - 2s - loss: 0.8154 - accuracy: 0.7500 - val_loss: 0.8783 - val_accuracy: 0.7667\n",
            "Epoch 14/60\n",
            "18/18 - 1s - loss: 0.8180 - accuracy: 0.7611 - val_loss: 0.7504 - val_accuracy: 0.8667\n",
            "Epoch 15/60\n",
            "18/18 - 1s - loss: 0.7987 - accuracy: 0.7944 - val_loss: 0.6229 - val_accuracy: 0.9000\n",
            "Epoch 16/60\n",
            "18/18 - 1s - loss: 0.6944 - accuracy: 0.8444 - val_loss: 0.6816 - val_accuracy: 0.9000\n",
            "Epoch 17/60\n",
            "18/18 - 1s - loss: 0.7644 - accuracy: 0.7907 - val_loss: 0.5387 - val_accuracy: 0.9333\n",
            "Epoch 18/60\n",
            "18/18 - 1s - loss: 0.7076 - accuracy: 0.8278 - val_loss: 0.8390 - val_accuracy: 0.8333\n",
            "Epoch 19/60\n",
            "18/18 - 1s - loss: 0.6327 - accuracy: 0.8444 - val_loss: 0.4762 - val_accuracy: 1.0000\n",
            "Epoch 20/60\n",
            "18/18 - 1s - loss: 0.6708 - accuracy: 0.8000 - val_loss: 0.6725 - val_accuracy: 0.8667\n",
            "Epoch 21/60\n",
            "18/18 - 1s - loss: 0.5904 - accuracy: 0.8372 - val_loss: 0.6795 - val_accuracy: 0.8667\n",
            "Epoch 22/60\n",
            "18/18 - 1s - loss: 0.5777 - accuracy: 0.8389 - val_loss: 0.5733 - val_accuracy: 0.9333\n",
            "Epoch 23/60\n",
            "18/18 - 1s - loss: 0.5101 - accuracy: 0.9056 - val_loss: 0.5329 - val_accuracy: 0.8667\n",
            "Epoch 24/60\n",
            "18/18 - 1s - loss: 0.5834 - accuracy: 0.8500 - val_loss: 0.3244 - val_accuracy: 0.9667\n",
            "Epoch 25/60\n",
            "18/18 - 1s - loss: 0.5410 - accuracy: 0.8722 - val_loss: 0.5632 - val_accuracy: 0.8667\n",
            "Epoch 26/60\n",
            "18/18 - 2s - loss: 0.5021 - accuracy: 0.8667 - val_loss: 0.5339 - val_accuracy: 0.9667\n",
            "Epoch 27/60\n",
            "18/18 - 1s - loss: 0.4519 - accuracy: 0.8889 - val_loss: 0.5155 - val_accuracy: 0.9667\n",
            "Epoch 28/60\n",
            "18/18 - 1s - loss: 0.4490 - accuracy: 0.9012 - val_loss: 0.4288 - val_accuracy: 0.9667\n",
            "Epoch 29/60\n",
            "18/18 - 1s - loss: 0.3796 - accuracy: 0.9111 - val_loss: 0.4670 - val_accuracy: 0.9333\n",
            "Epoch 30/60\n",
            "18/18 - 2s - loss: 0.4540 - accuracy: 0.8556 - val_loss: 0.4078 - val_accuracy: 0.9333\n",
            "Epoch 31/60\n",
            "18/18 - 2s - loss: 0.4394 - accuracy: 0.8944 - val_loss: 0.4801 - val_accuracy: 0.9000\n",
            "Epoch 32/60\n",
            "18/18 - 1s - loss: 0.5755 - accuracy: 0.8389 - val_loss: 0.4141 - val_accuracy: 0.9333\n",
            "Epoch 33/60\n",
            "18/18 - 1s - loss: 0.4325 - accuracy: 0.9111 - val_loss: 0.4864 - val_accuracy: 0.9667\n",
            "Epoch 34/60\n",
            "18/18 - 1s - loss: 0.4561 - accuracy: 0.8837 - val_loss: 0.5710 - val_accuracy: 0.9000\n",
            "Epoch 35/60\n",
            "18/18 - 1s - loss: 0.4162 - accuracy: 0.8833 - val_loss: 0.4487 - val_accuracy: 0.9000\n",
            "Epoch 36/60\n",
            "18/18 - 1s - loss: 0.3400 - accuracy: 0.9333 - val_loss: 0.3810 - val_accuracy: 0.9667\n",
            "Epoch 37/60\n",
            "18/18 - 1s - loss: 0.3515 - accuracy: 0.9222 - val_loss: 0.4447 - val_accuracy: 0.9667\n",
            "Epoch 38/60\n",
            "18/18 - 2s - loss: 0.4022 - accuracy: 0.9000 - val_loss: 0.4727 - val_accuracy: 0.9000\n",
            "Epoch 39/60\n",
            "18/18 - 1s - loss: 0.4144 - accuracy: 0.8611 - val_loss: 0.6406 - val_accuracy: 0.8667\n",
            "Epoch 40/60\n",
            "18/18 - 1s - loss: 0.3822 - accuracy: 0.9000 - val_loss: 0.4451 - val_accuracy: 0.9000\n",
            "Epoch 41/60\n",
            "18/18 - 1s - loss: 0.3704 - accuracy: 0.9000 - val_loss: 0.2589 - val_accuracy: 0.9667\n",
            "Epoch 42/60\n",
            "18/18 - 2s - loss: 0.3094 - accuracy: 0.9222 - val_loss: 0.3702 - val_accuracy: 0.9000\n",
            "Epoch 43/60\n",
            "18/18 - 1s - loss: 0.3735 - accuracy: 0.9128 - val_loss: 0.4135 - val_accuracy: 0.9333\n",
            "Epoch 44/60\n",
            "18/18 - 1s - loss: 0.3175 - accuracy: 0.9556 - val_loss: 0.5587 - val_accuracy: 0.8333\n",
            "Epoch 45/60\n",
            "18/18 - 1s - loss: 0.3398 - accuracy: 0.9278 - val_loss: 0.3188 - val_accuracy: 0.9333\n",
            "Epoch 46/60\n",
            "18/18 - 1s - loss: 0.2728 - accuracy: 0.9389 - val_loss: 0.2774 - val_accuracy: 0.9333\n",
            "Epoch 47/60\n",
            "18/18 - 1s - loss: 0.2706 - accuracy: 0.9389 - val_loss: 0.3849 - val_accuracy: 0.9000\n",
            "Epoch 48/60\n",
            "18/18 - 1s - loss: 0.2793 - accuracy: 0.9389 - val_loss: 0.4321 - val_accuracy: 0.8333\n",
            "Epoch 49/60\n",
            "18/18 - 1s - loss: 0.3104 - accuracy: 0.9244 - val_loss: 0.3016 - val_accuracy: 0.9333\n",
            "Epoch 50/60\n",
            "18/18 - 1s - loss: 0.2987 - accuracy: 0.9111 - val_loss: 0.3583 - val_accuracy: 0.9000\n",
            "Epoch 51/60\n",
            "18/18 - 1s - loss: 0.3499 - accuracy: 0.9389 - val_loss: 0.3810 - val_accuracy: 0.9000\n",
            "Epoch 52/60\n",
            "18/18 - 1s - loss: 0.2925 - accuracy: 0.9167 - val_loss: 0.2125 - val_accuracy: 0.9667\n",
            "Epoch 53/60\n",
            "18/18 - 1s - loss: 0.2917 - accuracy: 0.9389 - val_loss: 0.5681 - val_accuracy: 0.9000\n",
            "Epoch 54/60\n",
            "18/18 - 1s - loss: 0.2728 - accuracy: 0.9477 - val_loss: 0.2972 - val_accuracy: 0.9333\n",
            "Epoch 55/60\n",
            "18/18 - 1s - loss: 0.2369 - accuracy: 0.9444 - val_loss: 0.3953 - val_accuracy: 0.9333\n",
            "Epoch 56/60\n",
            "18/18 - 1s - loss: 0.3225 - accuracy: 0.9389 - val_loss: 0.3502 - val_accuracy: 1.0000\n",
            "Epoch 57/60\n",
            "18/18 - 2s - loss: 0.2107 - accuracy: 0.9722 - val_loss: 0.5220 - val_accuracy: 0.8667\n",
            "Epoch 58/60\n",
            "18/18 - 2s - loss: 0.2446 - accuracy: 0.9444 - val_loss: 0.4867 - val_accuracy: 0.8667\n",
            "Epoch 59/60\n",
            "18/18 - 1s - loss: 0.2407 - accuracy: 0.9333 - val_loss: 0.3390 - val_accuracy: 0.9667\n",
            "Epoch 60/60\n",
            "18/18 - 1s - loss: 0.2173 - accuracy: 0.9389 - val_loss: 0.3882 - val_accuracy: 0.9667\n"
          ],
          "name": "stdout"
        }
      ]
    },
    {
      "cell_type": "code",
      "metadata": {
        "colab": {
          "base_uri": "https://localhost:8080/",
          "height": 573
        },
        "id": "6vB8a5pMWRd-",
        "outputId": "bc7ab4e2-9530-4081-9a4e-6a751ff75b6b"
      },
      "source": [
        "# summarize history for accuracy\n",
        "plt.plot(history.history['accuracy'])\n",
        "plt.plot(history.history['val_accuracy'])\n",
        "plt.title('model accuracy')\n",
        "plt.ylabel('accuracy')\n",
        "plt.xlabel('epoch')\n",
        "plt.legend(['train', 'valid'], loc='upper left')\n",
        "plt.show()\n",
        "# summarize history for loss\n",
        "plt.plot(history.history['loss'])\n",
        "plt.plot(history.history['val_loss'])\n",
        "plt.title('model loss')\n",
        "plt.ylabel('loss')\n",
        "plt.xlabel('epoch')\n",
        "plt.legend(['train', 'valid'], loc='upper left')\n",
        "plt.show()"
      ],
      "execution_count": null,
      "outputs": [
        {
          "output_type": "display_data",
          "data": {
            "image/png": "[encoded data removed]",
            "text/plain": [
              "<Figure size 432x288 with 1 Axes>"
            ]
          },
          "metadata": {
            "tags": [],
            "needs_background": "light"
          }
        },
        {
          "output_type": "display_data",
          "data": {
            "image/png": "[encoded data removed]",
            "text/plain": [
              "<Figure size 432x288 with 1 Axes>"
            ]
          },
          "metadata": {
            "tags": [],
            "needs_background": "light"
          }
        }
      ]
    },
    {
      "cell_type": "code",
      "metadata": {
        "id": "1PaWLhIYswP0",
        "colab": {
          "base_uri": "https://localhost:8080/"
        },
        "outputId": "c69f87a1-6f80-492f-fde8-c811b4134e3f"
      },
      "source": [
        "test_labels = test_batches.classes\n",
        "predictions = new_model.predict_generator(test_batches, steps=5, verbose=0)"
      ],
      "execution_count": null,
      "outputs": [
        {
          "output_type": "stream",
          "text": [
            "/usr/local/lib/python3.7/dist-packages/tensorflow/python/keras/engine/training.py:1905: UserWarning: `Model.predict_generator` is deprecated and will be removed in a future version. Please use `Model.predict`, which supports generators.\n",
            "  warnings.warn('`Model.predict_generator` is deprecated and '\n"
          ],
          "name": "stderr"
        }
      ]
    },
    {
      "cell_type": "code",
      "metadata": {
        "id": "BIi81ql2vGN1"
      },
      "source": [
        "cm = confusion_matrix(test_labels, predictions.argmax(axis=1))"
      ],
      "execution_count": null,
      "outputs": []
    },
    {
      "cell_type": "code",
      "metadata": {
        "id": "l0wwN-CAtf_v"
      },
      "source": [
        ""
      ],
      "execution_count": null,
      "outputs": []
    },
    {
      "cell_type": "code",
      "metadata": {
        "colab": {
          "base_uri": "https://localhost:8080/"
        },
        "id": "DdpBJmKDy_xo",
        "outputId": "6d230215-9c86-4ce7-f19d-627f413fd622"
      },
      "source": [
        "test_batches.class_indices"
      ],
      "execution_count": null,
      "outputs": [
        {
          "output_type": "execute_result",
          "data": {
            "text/plain": [
              "{'0': 0,\n",
              " '1': 1,\n",
              " '2': 2,\n",
              " '3': 3,\n",
              " '4': 4,\n",
              " '5': 5,\n",
              " '6': 6,\n",
              " '7': 7,\n",
              " '8': 8,\n",
              " '9': 9}"
            ]
          },
          "metadata": {
            "tags": []
          },
          "execution_count": 49
        }
      ]
    },
    {
      "cell_type": "code",
      "metadata": {
        "id": "X34WxeQ3z0Uc"
      },
      "source": [
        "def plot_confusion_matrix(cm, classes,\n",
        "                        normalize=False,\n",
        "                        title='Confusion matrix',\n",
        "                        cmap=plt.cm.Blues):\n",
        "    \"\"\"\n",
        "    This function prints and plots the confusion matrix.\n",
        "    Normalization can be applied by setting `normalize=True`.\n",
        "    \"\"\"\n",
        "    plt.imshow(cm, interpolation='nearest', cmap=cmap)\n",
        "    plt.title(title)\n",
        "    plt.colorbar()\n",
        "    tick_marks = np.arange(len(classes))\n",
        "    plt.xticks(tick_marks, classes, rotation=45)\n",
        "    plt.yticks(tick_marks, classes)\n",
        "\n",
        "    if normalize:\n",
        "        cm = cm.astype('float') / cm.sum(axis=1)[:, np.newaxis]\n",
        "        print(\"Normalized confusion matrix\")\n",
        "    else:\n",
        "        print('Confusion matrix, without normalization')\n",
        "\n",
        "    print(cm)\n",
        "\n",
        "    thresh = cm.max() / 2.\n",
        "    for i, j in itertools.product(range(cm.shape[0]), range(cm.shape[1])):\n",
        "        plt.text(j, i, cm[i, j],\n",
        "            horizontalalignment=\"center\",\n",
        "            color=\"white\" if cm[i, j] > thresh else \"black\")\n",
        "\n",
        "    plt.tight_layout()\n",
        "    plt.ylabel('True label')\n",
        "    plt.xlabel('Predicted label')"
      ],
      "execution_count": null,
      "outputs": []
    },
    {
      "cell_type": "code",
      "metadata": {
        "colab": {
          "base_uri": "https://localhost:8080/",
          "height": 496
        },
        "id": "CjFUUUaBzGrA",
        "outputId": "eddfaf73-d9eb-419a-e39d-dbb128ecb389"
      },
      "source": [
        "cm_plot_labels = ['0','1','2','3','4','5','6','7','8','9']\n",
        "plot_confusion_matrix(cm, cm_plot_labels, title='confusion matrix')"
      ],
      "execution_count": null,
      "outputs": [
        {
          "output_type": "stream",
          "text": [
            "Confusion matrix, without normalization\n",
            "[[5 0 0 0 0 0 0 0 0 0]\n",
            " [0 4 1 0 0 0 0 0 0 0]\n",
            " [0 0 4 0 0 0 0 0 1 0]\n",
            " [0 0 0 4 1 0 0 0 0 0]\n",
            " [0 0 0 0 5 0 0 0 0 0]\n",
            " [0 0 0 0 0 5 0 0 0 0]\n",
            " [0 0 0 0 0 0 5 0 0 0]\n",
            " [0 0 0 0 0 0 0 5 0 0]\n",
            " [0 0 0 0 0 0 0 0 4 1]\n",
            " [0 0 0 0 0 0 0 0 0 5]]\n"
          ],
          "name": "stdout"
        },
        {
          "output_type": "display_data",
          "data": {
            "image/png": "[encoded data removed]",
            "text/plain": [
              "<Figure size 432x288 with 2 Axes>"
            ]
          },
          "metadata": {
            "tags": [],
            "needs_background": "light"
          }
        }
      ]
    },
    {
      "cell_type": "code",
      "metadata": {
        "id": "B6lzq0l60NUC"
      },
      "source": [
        "new_model.save('BD_VGG_model.h5')"
      ],
      "execution_count": null,
      "outputs": []
    },
    {
      "cell_type": "markdown",
      "metadata": {
        "id": "mrzsec221NZl"
      },
      "source": [
        "predictions che dimensioni dovrebbe avere?? 50,10"
      ]
    },
    {
      "cell_type": "code",
      "metadata": {
        "colab": {
          "base_uri": "https://localhost:8080/"
        },
        "id": "UcqKrJDcqKfk",
        "outputId": "416883c7-55e4-4641-c27a-e9899be77f8c"
      },
      "source": [
        "predictions.shape"
      ],
      "execution_count": null,
      "outputs": [
        {
          "output_type": "execute_result",
          "data": {
            "text/plain": [
              "(50, 10)"
            ]
          },
          "metadata": {
            "tags": []
          },
          "execution_count": 53
        }
      ]
    },
    {
      "cell_type": "code",
      "metadata": {
        "id": "8q8np5-ITo9I"
      },
      "source": [
        ""
      ],
      "execution_count": null,
      "outputs": []
    },
    {
      "cell_type": "markdown",
      "metadata": {
        "id": "FAL_MJpzS_wn"
      },
      "source": [
        "training con aug dataset dopo che ha già imparato dal dataset non aumentato, la validation è molto buona inizialmente poichè su di essa non agiscoin i filtri di augmentation.\n",
        "\n",
        "Il training su Augmented dataset è molto lento. Perchè?"
      ]
    },
    {
      "cell_type": "code",
      "metadata": {
        "colab": {
          "base_uri": "https://localhost:8080/"
        },
        "id": "WUUWonnDS9tN",
        "outputId": "a7b9fc6c-2392-468b-a7fa-66b9c3292bd1"
      },
      "source": [
        "history = new_model.fit(x=generator_train,\n",
        "                        epochs=epochs,\n",
        "                        steps_per_epoch=steps_per_epoch,\n",
        "                        verbose=2,\n",
        "                        validation_data=generator_test,\n",
        "                        validation_steps=steps_test)\n",
        "                       "
      ],
      "execution_count": null,
      "outputs": [
        {
          "output_type": "stream",
          "text": [
            "Epoch 1/30\n",
            "85/85 - 34s - loss: 0.7143 - accuracy: 0.7819 - val_loss: 0.4370 - val_accuracy: 0.9067\n",
            "Epoch 2/30\n",
            "85/85 - 28s - loss: 0.6287 - accuracy: 0.8186 - val_loss: 0.4073 - val_accuracy: 0.9033\n",
            "Epoch 3/30\n",
            "85/85 - 29s - loss: 0.5932 - accuracy: 0.8316 - val_loss: 0.3889 - val_accuracy: 0.9033\n",
            "Epoch 4/30\n",
            "85/85 - 28s - loss: 0.5512 - accuracy: 0.8424 - val_loss: 0.3756 - val_accuracy: 0.9033\n",
            "Epoch 5/30\n",
            "85/85 - 28s - loss: 0.5077 - accuracy: 0.8599 - val_loss: 0.3527 - val_accuracy: 0.9033\n",
            "Epoch 6/30\n",
            "85/85 - 28s - loss: 0.4863 - accuracy: 0.8588 - val_loss: 0.3483 - val_accuracy: 0.9067\n",
            "Epoch 7/30\n",
            "85/85 - 28s - loss: 0.4583 - accuracy: 0.8741 - val_loss: 0.3357 - val_accuracy: 0.9033\n",
            "Epoch 8/30\n",
            "85/85 - 28s - loss: 0.4477 - accuracy: 0.8682 - val_loss: 0.3196 - val_accuracy: 0.9200\n",
            "Epoch 9/30\n",
            "85/85 - 28s - loss: 0.4282 - accuracy: 0.8747 - val_loss: 0.3287 - val_accuracy: 0.8967\n",
            "Epoch 10/30\n",
            "85/85 - 28s - loss: 0.4020 - accuracy: 0.8924 - val_loss: 0.2997 - val_accuracy: 0.9167\n",
            "Epoch 11/30\n",
            "85/85 - 28s - loss: 0.3949 - accuracy: 0.9013 - val_loss: 0.2943 - val_accuracy: 0.9233\n",
            "Epoch 12/30\n",
            "85/85 - 27s - loss: 0.3819 - accuracy: 0.8966 - val_loss: 0.2908 - val_accuracy: 0.9100\n",
            "Epoch 13/30\n",
            "85/85 - 29s - loss: 0.3523 - accuracy: 0.9060 - val_loss: 0.2855 - val_accuracy: 0.9133\n",
            "Epoch 14/30\n",
            "85/85 - 28s - loss: 0.3481 - accuracy: 0.9090 - val_loss: 0.2762 - val_accuracy: 0.9267\n",
            "Epoch 15/30\n",
            "85/85 - 28s - loss: 0.3399 - accuracy: 0.9176 - val_loss: 0.2636 - val_accuracy: 0.9267\n",
            "Epoch 16/30\n",
            "85/85 - 27s - loss: 0.3273 - accuracy: 0.9108 - val_loss: 0.2648 - val_accuracy: 0.9233\n",
            "Epoch 17/30\n",
            "85/85 - 27s - loss: 0.3180 - accuracy: 0.9173 - val_loss: 0.2540 - val_accuracy: 0.9367\n",
            "Epoch 18/30\n",
            "85/85 - 28s - loss: 0.3064 - accuracy: 0.9190 - val_loss: 0.2521 - val_accuracy: 0.9367\n",
            "Epoch 19/30\n",
            "85/85 - 28s - loss: 0.2969 - accuracy: 0.9208 - val_loss: 0.2473 - val_accuracy: 0.9367\n",
            "Epoch 20/30\n",
            "85/85 - 28s - loss: 0.2736 - accuracy: 0.9362 - val_loss: 0.2377 - val_accuracy: 0.9300\n",
            "Epoch 21/30\n",
            "85/85 - 28s - loss: 0.2743 - accuracy: 0.9362 - val_loss: 0.2449 - val_accuracy: 0.9233\n",
            "Epoch 22/30\n",
            "85/85 - 27s - loss: 0.2665 - accuracy: 0.9409 - val_loss: 0.2409 - val_accuracy: 0.9200\n",
            "Epoch 23/30\n",
            "85/85 - 27s - loss: 0.2577 - accuracy: 0.9279 - val_loss: 0.2298 - val_accuracy: 0.9367\n",
            "Epoch 24/30\n",
            "85/85 - 27s - loss: 0.2477 - accuracy: 0.9427 - val_loss: 0.2258 - val_accuracy: 0.9333\n",
            "Epoch 25/30\n",
            "85/85 - 27s - loss: 0.2364 - accuracy: 0.9409 - val_loss: 0.2258 - val_accuracy: 0.9433\n",
            "Epoch 26/30\n",
            "85/85 - 27s - loss: 0.2424 - accuracy: 0.9403 - val_loss: 0.2245 - val_accuracy: 0.9300\n",
            "Epoch 27/30\n",
            "85/85 - 28s - loss: 0.2395 - accuracy: 0.9403 - val_loss: 0.2281 - val_accuracy: 0.9233\n",
            "Epoch 28/30\n",
            "85/85 - 28s - loss: 0.2430 - accuracy: 0.9415 - val_loss: 0.2226 - val_accuracy: 0.9333\n",
            "Epoch 29/30\n",
            "85/85 - 27s - loss: 0.2257 - accuracy: 0.9439 - val_loss: 0.2138 - val_accuracy: 0.9400\n",
            "Epoch 30/30\n",
            "85/85 - 27s - loss: 0.2194 - accuracy: 0.9456 - val_loss: 0.2150 - val_accuracy: 0.9433\n"
          ],
          "name": "stdout"
        }
      ]
    },
    {
      "cell_type": "code",
      "metadata": {
        "colab": {
          "base_uri": "https://localhost:8080/",
          "height": 573
        },
        "id": "BR5qSmWkTMFR",
        "outputId": "a00775f4-3ac9-4515-8bec-8a0f3eb94fd9"
      },
      "source": [
        "# summarize history for accuracy\n",
        "plt.plot(history.history['accuracy'])\n",
        "plt.plot(history.history['val_accuracy'])\n",
        "plt.title('model accuracy')\n",
        "plt.ylabel('accuracy')\n",
        "plt.xlabel('epoch')\n",
        "plt.legend(['train', 'valid'], loc='upper left')\n",
        "plt.show()\n",
        "# summarize history for loss\n",
        "plt.plot(history.history['loss'])\n",
        "plt.plot(history.history['val_loss'])\n",
        "plt.title('model loss')\n",
        "plt.ylabel('loss')\n",
        "plt.xlabel('epoch')\n",
        "plt.legend(['train', 'valid'], loc='upper left')\n",
        "plt.show()"
      ],
      "execution_count": null,
      "outputs": [
        {
          "output_type": "display_data",
          "data": {
            "image/png": "[encoded data removed]",
            "text/plain": [
              "<Figure size 432x288 with 1 Axes>"
            ]
          },
          "metadata": {
            "tags": [],
            "needs_background": "light"
          }
        },
        {
          "output_type": "display_data",
          "data": {
            "image/png": "[encoded data removed]",
            "text/plain": [
              "<Figure size 432x288 with 1 Axes>"
            ]
          },
          "metadata": {
            "tags": [],
            "needs_background": "light"
          }
        }
      ]
    },
    {
      "cell_type": "code",
      "metadata": {
        "colab": {
          "base_uri": "https://localhost:8080/"
        },
        "id": "eIkrU25FThuD",
        "outputId": "498a615e-589f-4fe9-b1c9-158d8c2cb95e"
      },
      "source": [
        "predictions = new_model.predict_generator(test_batches, steps=5, verbose=0)"
      ],
      "execution_count": null,
      "outputs": [
        {
          "output_type": "stream",
          "text": [
            "/usr/local/lib/python3.7/dist-packages/tensorflow/python/keras/engine/training.py:1905: UserWarning: `Model.predict_generator` is deprecated and will be removed in a future version. Please use `Model.predict`, which supports generators.\n",
            "  warnings.warn('`Model.predict_generator` is deprecated and '\n"
          ],
          "name": "stderr"
        }
      ]
    },
    {
      "cell_type": "code",
      "metadata": {
        "id": "TQPpXFwlaVMr"
      },
      "source": [
        "cm = confusion_matrix(test_labels, predictions.argmax(axis=1))"
      ],
      "execution_count": null,
      "outputs": []
    },
    {
      "cell_type": "code",
      "metadata": {
        "colab": {
          "base_uri": "https://localhost:8080/",
          "height": 496
        },
        "id": "zPk6j7WkTkqg",
        "outputId": "55124e01-5f22-4ec4-9247-792f00ec8aca"
      },
      "source": [
        "cm_plot_labels = ['0','1','2','3','4','5','6','7','8','9']\n",
        "plot_confusion_matrix(cm, cm_plot_labels, title='confusion matrix')"
      ],
      "execution_count": null,
      "outputs": [
        {
          "output_type": "stream",
          "text": [
            "Confusion matrix, without normalization\n",
            "[[5 0 0 0 0 0 0 0 0 0]\n",
            " [0 5 0 0 0 0 0 0 0 0]\n",
            " [0 0 4 0 0 0 0 0 1 0]\n",
            " [0 0 0 5 0 0 0 0 0 0]\n",
            " [0 0 0 0 5 0 0 0 0 0]\n",
            " [0 0 0 1 0 4 0 0 0 0]\n",
            " [0 0 0 0 0 0 5 0 0 0]\n",
            " [0 0 0 0 0 0 0 5 0 0]\n",
            " [0 0 0 0 0 0 0 0 5 0]\n",
            " [0 0 0 0 0 0 0 0 0 5]]\n"
          ],
          "name": "stdout"
        },
        {
          "output_type": "display_data",
          "data": {
            "image/png": "[encoded data removed]",
            "text/plain": [
              "<Figure size 432x288 with 2 Axes>"
            ]
          },
          "metadata": {
            "tags": [],
            "needs_background": "light"
          }
        }
      ]
    },
    {
      "cell_type": "code",
      "metadata": {
        "id": "Ph4Vxf2zUOd7"
      },
      "source": [
        "new_model.save('BD_AUG_VGG_model.h5')"
      ],
      "execution_count": null,
      "outputs": []
    },
    {
      "cell_type": "markdown",
      "metadata": {
        "id": "nJS7ZT1sSkW_"
      },
      "source": [
        "Da test con webcam si trovano alcuni errori, allora procedo con un tuning dei due livelli superficiali del conv_model che non ho ancora trainato"
      ]
    },
    {
      "cell_type": "code",
      "metadata": {
        "id": "ziDOH8wESkH7"
      },
      "source": [
        "for layer in conv_model.layers:\n",
        "    # Boolean whether this layer is trainable.\n",
        "    trainable = ('block5' in layer.name or 'block4' in layer.name)\n",
        "    \n",
        "    # Set the layer's bool.\n",
        "    layer.trainable = trainable"
      ],
      "execution_count": null,
      "outputs": []
    },
    {
      "cell_type": "code",
      "metadata": {
        "colab": {
          "base_uri": "https://localhost:8080/"
        },
        "id": "CvJdwONcSj0m",
        "outputId": "4933abdd-3bc2-42c7-e78d-f9afbb5eb9f8"
      },
      "source": [
        "print_layer_trainable(model)"
      ],
      "execution_count": null,
      "outputs": [
        {
          "output_type": "stream",
          "text": [
            "False:\tinput_1\n",
            "False:\tblock1_conv1\n",
            "False:\tblock1_conv2\n",
            "False:\tblock1_pool\n",
            "False:\tblock2_conv1\n",
            "False:\tblock2_conv2\n",
            "False:\tblock2_pool\n",
            "False:\tblock3_conv1\n",
            "False:\tblock3_conv2\n",
            "False:\tblock3_conv3\n",
            "False:\tblock3_pool\n",
            "True:\tblock4_conv1\n",
            "True:\tblock4_conv2\n",
            "True:\tblock4_conv3\n",
            "True:\tblock4_pool\n",
            "True:\tblock5_conv1\n",
            "True:\tblock5_conv2\n",
            "True:\tblock5_conv3\n",
            "True:\tblock5_pool\n",
            "True:\tflatten\n",
            "True:\tfc1\n",
            "True:\tfc2\n",
            "True:\tpredictions\n"
          ],
          "name": "stdout"
        }
      ]
    },
    {
      "cell_type": "markdown",
      "metadata": {
        "id": "ozrbJmGMVvTl"
      },
      "source": [
        "la learning rate è meglio se è minore del caso precedente in modo da evitare eccessive variazioni dovute all'errore dei layers aggiunti da me"
      ]
    },
    {
      "cell_type": "code",
      "metadata": {
        "id": "rfBiig5dVrCK"
      },
      "source": [
        "optimizer_fine = Adam(lr=1e-5)"
      ],
      "execution_count": null,
      "outputs": []
    },
    {
      "cell_type": "code",
      "metadata": {
        "id": "F3kmVX7sWAxe"
      },
      "source": [
        "fine_model = new_model\n",
        "fine_model.compile(optimizer=optimizer_fine, loss=loss, metrics=metrics)"
      ],
      "execution_count": null,
      "outputs": []
    },
    {
      "cell_type": "markdown",
      "metadata": {
        "id": "59_OChg-XGnK"
      },
      "source": [
        "Oltra all'augmentation ci sono anche molti parametri da gestire"
      ]
    },
    {
      "cell_type": "code",
      "metadata": {
        "colab": {
          "base_uri": "https://localhost:8080/"
        },
        "id": "8O1CRB6DWCGG",
        "outputId": "c2551e97-684c-4f42-fb40-30e29799c109"
      },
      "source": [
        "history = fine_model.fit(x=generator_train,\n",
        "                        epochs=epochs,\n",
        "                        steps_per_epoch=steps_per_epoch,\n",
        "                        verbose=2,\n",
        "                        validation_data=generator_test,\n",
        "                        validation_steps=steps_test)"
      ],
      "execution_count": null,
      "outputs": [
        {
          "output_type": "stream",
          "text": [
            "Epoch 1/30\n",
            "85/85 - 29s - loss: 0.1594 - accuracy: 0.9504 - val_loss: 0.1296 - val_accuracy: 0.9633\n",
            "Epoch 2/30\n",
            "85/85 - 28s - loss: 0.1120 - accuracy: 0.9645 - val_loss: 0.0926 - val_accuracy: 0.9700\n",
            "Epoch 3/30\n",
            "85/85 - 28s - loss: 0.0759 - accuracy: 0.9818 - val_loss: 0.0935 - val_accuracy: 0.9667\n",
            "Epoch 4/30\n",
            "85/85 - 28s - loss: 0.0760 - accuracy: 0.9787 - val_loss: 0.0886 - val_accuracy: 0.9867\n",
            "Epoch 5/30\n",
            "85/85 - 28s - loss: 0.0433 - accuracy: 0.9852 - val_loss: 0.0930 - val_accuracy: 0.9733\n",
            "Epoch 6/30\n",
            "85/85 - 28s - loss: 0.0742 - accuracy: 0.9776 - val_loss: 0.0873 - val_accuracy: 0.9867\n",
            "Epoch 7/30\n",
            "85/85 - 28s - loss: 0.0379 - accuracy: 0.9894 - val_loss: 0.0898 - val_accuracy: 0.9800\n",
            "Epoch 8/30\n",
            "85/85 - 28s - loss: 0.0388 - accuracy: 0.9894 - val_loss: 0.0812 - val_accuracy: 0.9867\n",
            "Epoch 9/30\n",
            "85/85 - 28s - loss: 0.0495 - accuracy: 0.9846 - val_loss: 0.0752 - val_accuracy: 0.9800\n",
            "Epoch 10/30\n",
            "85/85 - 28s - loss: 0.0330 - accuracy: 0.9918 - val_loss: 0.0843 - val_accuracy: 0.9833\n",
            "Epoch 11/30\n",
            "85/85 - 28s - loss: 0.0287 - accuracy: 0.9924 - val_loss: 0.0817 - val_accuracy: 0.9833\n",
            "Epoch 12/30\n",
            "85/85 - 28s - loss: 0.0449 - accuracy: 0.9865 - val_loss: 0.1060 - val_accuracy: 0.9767\n",
            "Epoch 13/30\n",
            "85/85 - 28s - loss: 0.0272 - accuracy: 0.9905 - val_loss: 0.0758 - val_accuracy: 0.9867\n",
            "Epoch 14/30\n",
            "85/85 - 28s - loss: 0.0316 - accuracy: 0.9911 - val_loss: 0.0797 - val_accuracy: 0.9767\n",
            "Epoch 15/30\n",
            "85/85 - 28s - loss: 0.0304 - accuracy: 0.9911 - val_loss: 0.0920 - val_accuracy: 0.9800\n",
            "Epoch 16/30\n",
            "85/85 - 28s - loss: 0.0187 - accuracy: 0.9965 - val_loss: 0.0793 - val_accuracy: 0.9867\n",
            "Epoch 17/30\n",
            "85/85 - 28s - loss: 0.0248 - accuracy: 0.9947 - val_loss: 0.0660 - val_accuracy: 0.9833\n",
            "Epoch 18/30\n",
            "85/85 - 28s - loss: 0.0191 - accuracy: 0.9971 - val_loss: 0.0789 - val_accuracy: 0.9800\n",
            "Epoch 19/30\n",
            "85/85 - 28s - loss: 0.0153 - accuracy: 0.9935 - val_loss: 0.0892 - val_accuracy: 0.9767\n",
            "Epoch 20/30\n",
            "85/85 - 28s - loss: 0.0184 - accuracy: 0.9947 - val_loss: 0.0735 - val_accuracy: 0.9867\n",
            "Epoch 21/30\n",
            "85/85 - 28s - loss: 0.0145 - accuracy: 0.9965 - val_loss: 0.1017 - val_accuracy: 0.9767\n",
            "Epoch 22/30\n",
            "85/85 - 28s - loss: 0.0275 - accuracy: 0.9941 - val_loss: 0.0881 - val_accuracy: 0.9800\n",
            "Epoch 23/30\n",
            "85/85 - 28s - loss: 0.0106 - accuracy: 0.9988 - val_loss: 0.0819 - val_accuracy: 0.9833\n",
            "Epoch 24/30\n",
            "85/85 - 28s - loss: 0.0132 - accuracy: 0.9965 - val_loss: 0.0938 - val_accuracy: 0.9867\n",
            "Epoch 25/30\n",
            "85/85 - 28s - loss: 0.0078 - accuracy: 0.9982 - val_loss: 0.1011 - val_accuracy: 0.9767\n",
            "Epoch 26/30\n",
            "85/85 - 28s - loss: 0.0052 - accuracy: 0.9988 - val_loss: 0.0885 - val_accuracy: 0.9900\n",
            "Epoch 27/30\n",
            "85/85 - 28s - loss: 0.0089 - accuracy: 0.9976 - val_loss: 0.1126 - val_accuracy: 0.9867\n",
            "Epoch 28/30\n",
            "85/85 - 30s - loss: 0.0282 - accuracy: 0.9911 - val_loss: 0.1160 - val_accuracy: 0.9833\n",
            "Epoch 29/30\n",
            "85/85 - 29s - loss: 0.0154 - accuracy: 0.9953 - val_loss: 0.0709 - val_accuracy: 0.9833\n",
            "Epoch 30/30\n",
            "85/85 - 28s - loss: 0.0128 - accuracy: 0.9941 - val_loss: 0.0935 - val_accuracy: 0.9833\n"
          ],
          "name": "stdout"
        }
      ]
    },
    {
      "cell_type": "code",
      "metadata": {
        "colab": {
          "base_uri": "https://localhost:8080/",
          "height": 573
        },
        "id": "Igda-1N0ZrV1",
        "outputId": "5a61b6e9-650e-42d8-de4a-c679cc4240de"
      },
      "source": [
        "# summarize history for accuracy\n",
        "plt.plot(history.history['accuracy'])\n",
        "plt.plot(history.history['val_accuracy'])\n",
        "plt.title('model accuracy')\n",
        "plt.ylabel('accuracy')\n",
        "plt.xlabel('epoch')\n",
        "plt.legend(['train', 'valid'], loc='upper left')\n",
        "plt.show()\n",
        "# summarize history for loss\n",
        "plt.plot(history.history['loss'])\n",
        "plt.plot(history.history['val_loss'])\n",
        "plt.title('model loss')\n",
        "plt.ylabel('loss')\n",
        "plt.xlabel('epoch')\n",
        "plt.legend(['train', 'valid'], loc='upper left')\n",
        "plt.show()"
      ],
      "execution_count": null,
      "outputs": [
        {
          "output_type": "display_data",
          "data": {
            "image/png": "[encoded data removed]",
            "text/plain": [
              "<Figure size 432x288 with 1 Axes>"
            ]
          },
          "metadata": {
            "tags": [],
            "needs_background": "light"
          }
        },
        {
          "output_type": "display_data",
          "data": {
            "image/png": "[encoded data removed]",
            "text/plain": [
              "<Figure size 432x288 with 1 Axes>"
            ]
          },
          "metadata": {
            "tags": [],
            "needs_background": "light"
          }
        }
      ]
    },
    {
      "cell_type": "code",
      "metadata": {
        "colab": {
          "base_uri": "https://localhost:8080/"
        },
        "id": "DywZRL45Z4ul",
        "outputId": "d943678a-4887-4e30-ea8a-fccfb72b957e"
      },
      "source": [
        "fine_predictions = fine_model.predict_generator(test_batches, steps=5, verbose=0)"
      ],
      "execution_count": null,
      "outputs": [
        {
          "output_type": "stream",
          "text": [
            "/usr/local/lib/python3.7/dist-packages/tensorflow/python/keras/engine/training.py:1905: UserWarning: `Model.predict_generator` is deprecated and will be removed in a future version. Please use `Model.predict`, which supports generators.\n",
            "  warnings.warn('`Model.predict_generator` is deprecated and '\n"
          ],
          "name": "stderr"
        }
      ]
    },
    {
      "cell_type": "code",
      "metadata": {
        "id": "_hnVI7ZAad7V"
      },
      "source": [
        "cm = confusion_matrix(test_labels, fine_predictions.argmax(axis=1))"
      ],
      "execution_count": null,
      "outputs": []
    },
    {
      "cell_type": "code",
      "metadata": {
        "colab": {
          "base_uri": "https://localhost:8080/",
          "height": 496
        },
        "id": "zjd-ghqKaC2z",
        "outputId": "3a3714b6-aa68-4a5a-9726-2ef280db852d"
      },
      "source": [
        "cm_plot_labels = ['0','1','2','3','4','5','6','7','8','9']\n",
        "plot_confusion_matrix(cm, cm_plot_labels, title='confusion matrix')"
      ],
      "execution_count": null,
      "outputs": [
        {
          "output_type": "stream",
          "text": [
            "Confusion matrix, without normalization\n",
            "[[5 0 0 0 0 0 0 0 0 0]\n",
            " [0 5 0 0 0 0 0 0 0 0]\n",
            " [0 0 5 0 0 0 0 0 0 0]\n",
            " [0 0 0 5 0 0 0 0 0 0]\n",
            " [0 0 0 0 5 0 0 0 0 0]\n",
            " [0 0 0 0 0 5 0 0 0 0]\n",
            " [0 0 0 0 0 0 5 0 0 0]\n",
            " [0 0 0 0 0 0 0 5 0 0]\n",
            " [0 0 0 0 0 0 0 0 5 0]\n",
            " [0 0 0 0 0 0 0 0 0 5]]\n"
          ],
          "name": "stdout"
        },
        {
          "output_type": "display_data",
          "data": {
            "image/png": "[encoded data removed]",
            "text/plain": [
              "<Figure size 432x288 with 2 Axes>"
            ]
          },
          "metadata": {
            "tags": [],
            "needs_background": "light"
          }
        }
      ]
    },
    {
      "cell_type": "code",
      "metadata": {
        "id": "DJX0YcsSaoN9"
      },
      "source": [
        "fine_model.save('BDVGG16_AUGdeeper_training.h5')"
      ],
      "execution_count": null,
      "outputs": []
    }
  ]
}
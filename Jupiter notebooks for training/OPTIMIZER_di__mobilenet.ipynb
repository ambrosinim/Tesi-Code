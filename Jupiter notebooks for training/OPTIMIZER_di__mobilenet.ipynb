{
  "nbformat": 4,
  "nbformat_minor": 0,
  "metadata": {
    "accelerator": "GPU",
    "colab": {
      "name": "OPTIMIZER di bigdataFT_mobilenet.ipynb",
      "provenance": [],
      "collapsed_sections": []
    },
    "kernelspec": {
      "display_name": "Python 3",
      "name": "python3"
    }
  },
  "cells": [
    {
      "cell_type": "code",
      "metadata": {
        "id": "t38_kOEdoQBK",
        "colab": {
          "base_uri": "https://localhost:8080/"
        },
        "outputId": "c9411c77-d38f-4156-9b8f-26291c58ce87"
      },
      "source": [
        "%cd\n",
        "shutil.rmtree('/content/hands_dataset') #non usarloo"
      ],
      "execution_count": null,
      "outputs": [
        {
          "output_type": "stream",
          "text": [
            "/root\n"
          ],
          "name": "stdout"
        }
      ]
    },
    {
      "cell_type": "code",
      "metadata": {
        "colab": {
          "base_uri": "https://localhost:8080/"
        },
        "id": "qE3xDsistYuc",
        "outputId": "28b58257-1d8a-4225-a241-c7966b140fc7"
      },
      "source": [
        "%cd \n",
        "%cd ../content\n",
        "!pwd"
      ],
      "execution_count": null,
      "outputs": [
        {
          "output_type": "stream",
          "text": [
            "/root\n",
            "/content\n",
            "/content\n"
          ],
          "name": "stdout"
        }
      ]
    },
    {
      "cell_type": "code",
      "metadata": {
        "id": "7dYWw579vFHC"
      },
      "source": [
        "import numpy as np\n",
        "import tensorflow as tf\n",
        "from tensorflow import keras\n",
        "from tensorflow.keras.models import Sequential\n",
        "from tensorflow.keras.layers import Activation, Dense, Flatten, BatchNormalization, Conv2D, MaxPool2D\n",
        "from tensorflow.keras.optimizers import Adam, SGD, RMSprop\n",
        "from tensorflow.keras.metrics import categorical_crossentropy\n",
        "from tensorflow.keras.preprocessing.image import ImageDataGenerator\n",
        "from sklearn.metrics import confusion_matrix\n",
        "from tensorflow.keras.models import Model\n",
        "from sklearn.metrics import confusion_matrix\n",
        "import itertools\n",
        "import itertools\n",
        "import os\n",
        "import shutil\n",
        "import random\n",
        "import glob\n",
        "import matplotlib.pyplot as plt\n",
        "import warnings\n",
        "from keras.callbacks import ModelCheckpoint\n"
      ],
      "execution_count": null,
      "outputs": []
    },
    {
      "cell_type": "code",
      "metadata": {
        "id": "S5ZN5z6_2tI4"
      },
      "source": [
        "mobile = keras.applications.mobilenet.MobileNet()"
      ],
      "execution_count": null,
      "outputs": []
    },
    {
      "cell_type": "code",
      "metadata": {
        "id": "WBr4Dosm22tM"
      },
      "source": [
        "#mobile.summary()"
      ],
      "execution_count": null,
      "outputs": []
    },
    {
      "cell_type": "code",
      "metadata": {
        "colab": {
          "base_uri": "https://localhost:8080/"
        },
        "id": "7tjnYOhGRDqn",
        "outputId": "227ca486-90ff-4585-a91e-eb141afd9166"
      },
      "source": [
        "\n",
        "!pwd\n",
        "\n",
        "!git clone https://github.com/ma-tesi/hands_dataset.git"
      ],
      "execution_count": null,
      "outputs": [
        {
          "output_type": "stream",
          "text": [
            "/content\n",
            "Cloning into 'hands_dataset'...\n",
            "remote: Enumerating objects: 2696, done.\u001b[K\n",
            "remote: Total 2696 (delta 0), reused 0 (delta 0), pack-reused 2696\u001b[K\n",
            "Receiving objects: 100% (2696/2696), 22.06 MiB | 21.95 MiB/s, done.\n",
            "Resolving deltas: 100% (863/863), done.\n"
          ],
          "name": "stdout"
        }
      ]
    },
    {
      "cell_type": "code",
      "metadata": {
        "colab": {
          "base_uri": "https://localhost:8080/"
        },
        "id": "M9pBu_B4SYeu",
        "outputId": "57b0e0ed-b321-4000-d929-c9f84fd69af8"
      },
      "source": [
        "%cd hands_dataset\n",
        "!ls\n"
      ],
      "execution_count": null,
      "outputs": [
        {
          "output_type": "stream",
          "text": [
            "/content/hands_dataset\n",
            "Dataset  Examples  LICENSE  README.md\n"
          ],
          "name": "stdout"
        }
      ]
    },
    {
      "cell_type": "code",
      "metadata": {
        "colab": {
          "base_uri": "https://localhost:8080/"
        },
        "id": "QzR5TYl6VLR3",
        "outputId": "689e666f-881e-4c37-f7aa-721d4d69a361"
      },
      "source": [
        "!rm -rf Examples  LICENSE  README.md\n",
        "!ls"
      ],
      "execution_count": null,
      "outputs": [
        {
          "output_type": "stream",
          "text": [
            "Dataset\n"
          ],
          "name": "stdout"
        }
      ]
    },
    {
      "cell_type": "code",
      "metadata": {
        "colab": {
          "base_uri": "https://localhost:8080/"
        },
        "id": "yFXDJ2uIW5hX",
        "outputId": "be8d9aed-d623-446e-b84e-1eb14e74d23c"
      },
      "source": [
        "dir_path = os.path.dirname(os.path.realpath('FT_mobilenet.ipynb'))\n",
        "print(dir_path)"
      ],
      "execution_count": null,
      "outputs": [
        {
          "output_type": "stream",
          "text": [
            "/content/hands_dataset\n"
          ],
          "name": "stdout"
        }
      ]
    },
    {
      "cell_type": "code",
      "metadata": {
        "colab": {
          "base_uri": "https://localhost:8080/"
        },
        "id": "RWscbLxqYY7K",
        "outputId": "27104aea-8ccd-4692-8135-e07bc5e8ff7d"
      },
      "source": [
        "!pwd"
      ],
      "execution_count": null,
      "outputs": [
        {
          "output_type": "stream",
          "text": [
            "/content/hands_dataset\n"
          ],
          "name": "stdout"
        }
      ]
    },
    {
      "cell_type": "code",
      "metadata": {
        "colab": {
          "base_uri": "https://localhost:8080/"
        },
        "id": "RU3U0KJfZcj3",
        "outputId": "4b4183f8-2757-4394-e128-8e1dff17b554"
      },
      "source": [
        "%cd /content/hands_dataset/Dataset\n",
        "%mkdir train\n",
        "%mkdir test\n",
        "%mkdir valid\n",
        "%mv 0/ 1/ 2 / 3/ 4/ 5/ 6/ 7/ 8/ 9/ train/"
      ],
      "execution_count": null,
      "outputs": [
        {
          "output_type": "stream",
          "text": [
            "/content/hands_dataset/Dataset\n",
            "mv: cannot move '/' to 'train': Device or resource busy\n"
          ],
          "name": "stdout"
        }
      ]
    },
    {
      "cell_type": "code",
      "metadata": {
        "colab": {
          "base_uri": "https://localhost:8080/"
        },
        "id": "Kp9N9lbqXe6I",
        "outputId": "8e3e00bf-8dc0-4e69-f144-5a46fd74bcc4"
      },
      "source": [
        "#%cd -\n",
        "!pwd\n",
        "%cd valid\n",
        "%mkdir 0/ 1/ 2 / 3/ 4/ 5/ 6/ 7/ 8/ 9/\n",
        "%cd ../test\n",
        "%mkdir 0/ 1/ 2 / 3/ 4/ 5/ 6/ 7/ 8/ 9/"
      ],
      "execution_count": null,
      "outputs": [
        {
          "output_type": "stream",
          "text": [
            "/content/hands_dataset/Dataset\n",
            "/content/hands_dataset/Dataset/valid\n",
            "mkdir: cannot create directory ‘/’: File exists\n",
            "/content/hands_dataset/Dataset/test\n",
            "mkdir: cannot create directory ‘/’: File exists\n"
          ],
          "name": "stdout"
        }
      ]
    },
    {
      "cell_type": "code",
      "metadata": {
        "colab": {
          "base_uri": "https://localhost:8080/"
        },
        "id": "X1m7X0OKO0kT",
        "outputId": "5ecea307-da11-4c7b-db9b-c0b00d80faec"
      },
      "source": [
        "\n",
        "!pwd"
      ],
      "execution_count": null,
      "outputs": [
        {
          "output_type": "stream",
          "text": [
            "/content/hands_dataset/Dataset/test\n"
          ],
          "name": "stdout"
        }
      ]
    },
    {
      "cell_type": "code",
      "metadata": {
        "id": "X3qRXpHZYIXO"
      },
      "source": [
        "%%bash\n",
        "cd ../train\n",
        "for ((i=0; i<=9; i++)); do\n",
        "  a=$(find $i/ -type f | shuf -n 30)\n",
        "  mv $a ../valid/$i/\n",
        "  b=$(find $i/ -type f | shuf -n 5)\n",
        "  mv $b ../test/$i/\n",
        "done\n"
      ],
      "execution_count": null,
      "outputs": []
    },
    {
      "cell_type": "code",
      "metadata": {
        "colab": {
          "base_uri": "https://localhost:8080/"
        },
        "id": "HLtRKWHbo9DQ",
        "outputId": "d99f5e7b-fe37-46fb-aa8f-03da9ff6eced"
      },
      "source": [
        "%cd ../..\n",
        "!pwd"
      ],
      "execution_count": null,
      "outputs": [
        {
          "output_type": "stream",
          "text": [
            "/content/hands_dataset\n",
            "/content/hands_dataset\n"
          ],
          "name": "stdout"
        }
      ]
    },
    {
      "cell_type": "code",
      "metadata": {
        "id": "mEBeEz7iC47D"
      },
      "source": [
        "train_path = 'Dataset/train'\n",
        "valid_path = 'Dataset/valid'\n",
        "test_path = 'Dataset/test'  "
      ],
      "execution_count": null,
      "outputs": []
    },
    {
      "cell_type": "code",
      "metadata": {
        "colab": {
          "base_uri": "https://localhost:8080/"
        },
        "id": "dDEl0O27DeM_",
        "outputId": "100ef051-438b-49b9-c074-c5f0486b930d"
      },
      "source": [
        "train_batches = ImageDataGenerator(preprocessing_function=keras.applications.mobilenet.preprocess_input).flow_from_directory(\n",
        "    train_path, target_size=(224, 224), batch_size=16)\n",
        "valid_batches = ImageDataGenerator(preprocessing_function=keras.applications.mobilenet.preprocess_input).flow_from_directory(\n",
        "    valid_path, target_size=(224, 224), batch_size=16)\n",
        "test_batches = ImageDataGenerator(preprocessing_function=keras.applications.mobilenet.preprocess_input).flow_from_directory(\n",
        "    test_path, target_size=(224, 224), batch_size=10, shuffle=False)"
      ],
      "execution_count": null,
      "outputs": [
        {
          "output_type": "stream",
          "text": [
            "Found 2172 images belonging to 10 classes.\n",
            "Found 300 images belonging to 10 classes.\n",
            "Found 50 images belonging to 10 classes.\n"
          ],
          "name": "stdout"
        }
      ]
    },
    {
      "cell_type": "code",
      "metadata": {
        "colab": {
          "base_uri": "https://localhost:8080/"
        },
        "id": "4d3kVOUhPJxh",
        "outputId": "16c7194d-8e37-4b41-e6b7-6befceb599d9"
      },
      "source": [
        "mobile = keras.applications.mobilenet.MobileNet()\n",
        "mobile.summary()"
      ],
      "execution_count": null,
      "outputs": [
        {
          "output_type": "stream",
          "text": [
            "Model: \"mobilenet_1.00_224\"\n",
            "_________________________________________________________________\n",
            "Layer (type)                 Output Shape              Param #   \n",
            "=================================================================\n",
            "input_4 (InputLayer)         [(None, 224, 224, 3)]     0         \n",
            "_________________________________________________________________\n",
            "conv1 (Conv2D)               (None, 112, 112, 32)      864       \n",
            "_________________________________________________________________\n",
            "conv1_bn (BatchNormalization (None, 112, 112, 32)      128       \n",
            "_________________________________________________________________\n",
            "conv1_relu (ReLU)            (None, 112, 112, 32)      0         \n",
            "_________________________________________________________________\n",
            "conv_dw_1 (DepthwiseConv2D)  (None, 112, 112, 32)      288       \n",
            "_________________________________________________________________\n",
            "conv_dw_1_bn (BatchNormaliza (None, 112, 112, 32)      128       \n",
            "_________________________________________________________________\n",
            "conv_dw_1_relu (ReLU)        (None, 112, 112, 32)      0         \n",
            "_________________________________________________________________\n",
            "conv_pw_1 (Conv2D)           (None, 112, 112, 64)      2048      \n",
            "_________________________________________________________________\n",
            "conv_pw_1_bn (BatchNormaliza (None, 112, 112, 64)      256       \n",
            "_________________________________________________________________\n",
            "conv_pw_1_relu (ReLU)        (None, 112, 112, 64)      0         \n",
            "_________________________________________________________________\n",
            "conv_pad_2 (ZeroPadding2D)   (None, 113, 113, 64)      0         \n",
            "_________________________________________________________________\n",
            "conv_dw_2 (DepthwiseConv2D)  (None, 56, 56, 64)        576       \n",
            "_________________________________________________________________\n",
            "conv_dw_2_bn (BatchNormaliza (None, 56, 56, 64)        256       \n",
            "_________________________________________________________________\n",
            "conv_dw_2_relu (ReLU)        (None, 56, 56, 64)        0         \n",
            "_________________________________________________________________\n",
            "conv_pw_2 (Conv2D)           (None, 56, 56, 128)       8192      \n",
            "_________________________________________________________________\n",
            "conv_pw_2_bn (BatchNormaliza (None, 56, 56, 128)       512       \n",
            "_________________________________________________________________\n",
            "conv_pw_2_relu (ReLU)        (None, 56, 56, 128)       0         \n",
            "_________________________________________________________________\n",
            "conv_dw_3 (DepthwiseConv2D)  (None, 56, 56, 128)       1152      \n",
            "_________________________________________________________________\n",
            "conv_dw_3_bn (BatchNormaliza (None, 56, 56, 128)       512       \n",
            "_________________________________________________________________\n",
            "conv_dw_3_relu (ReLU)        (None, 56, 56, 128)       0         \n",
            "_________________________________________________________________\n",
            "conv_pw_3 (Conv2D)           (None, 56, 56, 128)       16384     \n",
            "_________________________________________________________________\n",
            "conv_pw_3_bn (BatchNormaliza (None, 56, 56, 128)       512       \n",
            "_________________________________________________________________\n",
            "conv_pw_3_relu (ReLU)        (None, 56, 56, 128)       0         \n",
            "_________________________________________________________________\n",
            "conv_pad_4 (ZeroPadding2D)   (None, 57, 57, 128)       0         \n",
            "_________________________________________________________________\n",
            "conv_dw_4 (DepthwiseConv2D)  (None, 28, 28, 128)       1152      \n",
            "_________________________________________________________________\n",
            "conv_dw_4_bn (BatchNormaliza (None, 28, 28, 128)       512       \n",
            "_________________________________________________________________\n",
            "conv_dw_4_relu (ReLU)        (None, 28, 28, 128)       0         \n",
            "_________________________________________________________________\n",
            "conv_pw_4 (Conv2D)           (None, 28, 28, 256)       32768     \n",
            "_________________________________________________________________\n",
            "conv_pw_4_bn (BatchNormaliza (None, 28, 28, 256)       1024      \n",
            "_________________________________________________________________\n",
            "conv_pw_4_relu (ReLU)        (None, 28, 28, 256)       0         \n",
            "_________________________________________________________________\n",
            "conv_dw_5 (DepthwiseConv2D)  (None, 28, 28, 256)       2304      \n",
            "_________________________________________________________________\n",
            "conv_dw_5_bn (BatchNormaliza (None, 28, 28, 256)       1024      \n",
            "_________________________________________________________________\n",
            "conv_dw_5_relu (ReLU)        (None, 28, 28, 256)       0         \n",
            "_________________________________________________________________\n",
            "conv_pw_5 (Conv2D)           (None, 28, 28, 256)       65536     \n",
            "_________________________________________________________________\n",
            "conv_pw_5_bn (BatchNormaliza (None, 28, 28, 256)       1024      \n",
            "_________________________________________________________________\n",
            "conv_pw_5_relu (ReLU)        (None, 28, 28, 256)       0         \n",
            "_________________________________________________________________\n",
            "conv_pad_6 (ZeroPadding2D)   (None, 29, 29, 256)       0         \n",
            "_________________________________________________________________\n",
            "conv_dw_6 (DepthwiseConv2D)  (None, 14, 14, 256)       2304      \n",
            "_________________________________________________________________\n",
            "conv_dw_6_bn (BatchNormaliza (None, 14, 14, 256)       1024      \n",
            "_________________________________________________________________\n",
            "conv_dw_6_relu (ReLU)        (None, 14, 14, 256)       0         \n",
            "_________________________________________________________________\n",
            "conv_pw_6 (Conv2D)           (None, 14, 14, 512)       131072    \n",
            "_________________________________________________________________\n",
            "conv_pw_6_bn (BatchNormaliza (None, 14, 14, 512)       2048      \n",
            "_________________________________________________________________\n",
            "conv_pw_6_relu (ReLU)        (None, 14, 14, 512)       0         \n",
            "_________________________________________________________________\n",
            "conv_dw_7 (DepthwiseConv2D)  (None, 14, 14, 512)       4608      \n",
            "_________________________________________________________________\n",
            "conv_dw_7_bn (BatchNormaliza (None, 14, 14, 512)       2048      \n",
            "_________________________________________________________________\n",
            "conv_dw_7_relu (ReLU)        (None, 14, 14, 512)       0         \n",
            "_________________________________________________________________\n",
            "conv_pw_7 (Conv2D)           (None, 14, 14, 512)       262144    \n",
            "_________________________________________________________________\n",
            "conv_pw_7_bn (BatchNormaliza (None, 14, 14, 512)       2048      \n",
            "_________________________________________________________________\n",
            "conv_pw_7_relu (ReLU)        (None, 14, 14, 512)       0         \n",
            "_________________________________________________________________\n",
            "conv_dw_8 (DepthwiseConv2D)  (None, 14, 14, 512)       4608      \n",
            "_________________________________________________________________\n",
            "conv_dw_8_bn (BatchNormaliza (None, 14, 14, 512)       2048      \n",
            "_________________________________________________________________\n",
            "conv_dw_8_relu (ReLU)        (None, 14, 14, 512)       0         \n",
            "_________________________________________________________________\n",
            "conv_pw_8 (Conv2D)           (None, 14, 14, 512)       262144    \n",
            "_________________________________________________________________\n",
            "conv_pw_8_bn (BatchNormaliza (None, 14, 14, 512)       2048      \n",
            "_________________________________________________________________\n",
            "conv_pw_8_relu (ReLU)        (None, 14, 14, 512)       0         \n",
            "_________________________________________________________________\n",
            "conv_dw_9 (DepthwiseConv2D)  (None, 14, 14, 512)       4608      \n",
            "_________________________________________________________________\n",
            "conv_dw_9_bn (BatchNormaliza (None, 14, 14, 512)       2048      \n",
            "_________________________________________________________________\n",
            "conv_dw_9_relu (ReLU)        (None, 14, 14, 512)       0         \n",
            "_________________________________________________________________\n",
            "conv_pw_9 (Conv2D)           (None, 14, 14, 512)       262144    \n",
            "_________________________________________________________________\n",
            "conv_pw_9_bn (BatchNormaliza (None, 14, 14, 512)       2048      \n",
            "_________________________________________________________________\n",
            "conv_pw_9_relu (ReLU)        (None, 14, 14, 512)       0         \n",
            "_________________________________________________________________\n",
            "conv_dw_10 (DepthwiseConv2D) (None, 14, 14, 512)       4608      \n",
            "_________________________________________________________________\n",
            "conv_dw_10_bn (BatchNormaliz (None, 14, 14, 512)       2048      \n",
            "_________________________________________________________________\n",
            "conv_dw_10_relu (ReLU)       (None, 14, 14, 512)       0         \n",
            "_________________________________________________________________\n",
            "conv_pw_10 (Conv2D)          (None, 14, 14, 512)       262144    \n",
            "_________________________________________________________________\n",
            "conv_pw_10_bn (BatchNormaliz (None, 14, 14, 512)       2048      \n",
            "_________________________________________________________________\n",
            "conv_pw_10_relu (ReLU)       (None, 14, 14, 512)       0         \n",
            "_________________________________________________________________\n",
            "conv_dw_11 (DepthwiseConv2D) (None, 14, 14, 512)       4608      \n",
            "_________________________________________________________________\n",
            "conv_dw_11_bn (BatchNormaliz (None, 14, 14, 512)       2048      \n",
            "_________________________________________________________________\n",
            "conv_dw_11_relu (ReLU)       (None, 14, 14, 512)       0         \n",
            "_________________________________________________________________\n",
            "conv_pw_11 (Conv2D)          (None, 14, 14, 512)       262144    \n",
            "_________________________________________________________________\n",
            "conv_pw_11_bn (BatchNormaliz (None, 14, 14, 512)       2048      \n",
            "_________________________________________________________________\n",
            "conv_pw_11_relu (ReLU)       (None, 14, 14, 512)       0         \n",
            "_________________________________________________________________\n",
            "conv_pad_12 (ZeroPadding2D)  (None, 15, 15, 512)       0         \n",
            "_________________________________________________________________\n",
            "conv_dw_12 (DepthwiseConv2D) (None, 7, 7, 512)         4608      \n",
            "_________________________________________________________________\n",
            "conv_dw_12_bn (BatchNormaliz (None, 7, 7, 512)         2048      \n",
            "_________________________________________________________________\n",
            "conv_dw_12_relu (ReLU)       (None, 7, 7, 512)         0         \n",
            "_________________________________________________________________\n",
            "conv_pw_12 (Conv2D)          (None, 7, 7, 1024)        524288    \n",
            "_________________________________________________________________\n",
            "conv_pw_12_bn (BatchNormaliz (None, 7, 7, 1024)        4096      \n",
            "_________________________________________________________________\n",
            "conv_pw_12_relu (ReLU)       (None, 7, 7, 1024)        0         \n",
            "_________________________________________________________________\n",
            "conv_dw_13 (DepthwiseConv2D) (None, 7, 7, 1024)        9216      \n",
            "_________________________________________________________________\n",
            "conv_dw_13_bn (BatchNormaliz (None, 7, 7, 1024)        4096      \n",
            "_________________________________________________________________\n",
            "conv_dw_13_relu (ReLU)       (None, 7, 7, 1024)        0         \n",
            "_________________________________________________________________\n",
            "conv_pw_13 (Conv2D)          (None, 7, 7, 1024)        1048576   \n",
            "_________________________________________________________________\n",
            "conv_pw_13_bn (BatchNormaliz (None, 7, 7, 1024)        4096      \n",
            "_________________________________________________________________\n",
            "conv_pw_13_relu (ReLU)       (None, 7, 7, 1024)        0         \n",
            "_________________________________________________________________\n",
            "global_average_pooling2d_3 ( (None, 1024)              0         \n",
            "_________________________________________________________________\n",
            "reshape_1 (Reshape)          (None, 1, 1, 1024)        0         \n",
            "_________________________________________________________________\n",
            "dropout (Dropout)            (None, 1, 1, 1024)        0         \n",
            "_________________________________________________________________\n",
            "conv_preds (Conv2D)          (None, 1, 1, 1000)        1025000   \n",
            "_________________________________________________________________\n",
            "reshape_2 (Reshape)          (None, 1000)              0         \n",
            "_________________________________________________________________\n",
            "predictions (Activation)     (None, 1000)              0         \n",
            "=================================================================\n",
            "Total params: 4,253,864\n",
            "Trainable params: 4,231,976\n",
            "Non-trainable params: 21,888\n",
            "_________________________________________________________________\n"
          ],
          "name": "stdout"
        }
      ]
    },
    {
      "cell_type": "code",
      "metadata": {
        "id": "Fn94eUUFluB7"
      },
      "source": [
        "x = mobile.layers[-6].output\n",
        "# we take out only the last 6 layers\n",
        "predictions = Dense(10, activation='softmax')(x) #si va ad aggiungere dopo l'ultimo global average pooling\n",
        "# we add the output layer\n",
        "SGDmodel = Model(inputs=mobile.input, outputs=predictions)\n"
      ],
      "execution_count": null,
      "outputs": []
    },
    {
      "cell_type": "code",
      "metadata": {
        "id": "V2P8ZGkoqPCD"
      },
      "source": [
        "for layer in SGDmodel.layers:\n",
        "  layer.trainable = True\n"
      ],
      "execution_count": null,
      "outputs": []
    },
    {
      "cell_type": "code",
      "metadata": {
        "id": "UZQ-syXpzwEX",
        "colab": {
          "base_uri": "https://localhost:8080/"
        },
        "outputId": "a121f2e1-edfc-4702-ec76-d247b831e47b"
      },
      "source": [
        "SGDmodel.summary()"
      ],
      "execution_count": null,
      "outputs": [
        {
          "output_type": "stream",
          "text": [
            "Model: \"model_1\"\n",
            "_________________________________________________________________\n",
            "Layer (type)                 Output Shape              Param #   \n",
            "=================================================================\n",
            "input_4 (InputLayer)         [(None, 224, 224, 3)]     0         \n",
            "_________________________________________________________________\n",
            "conv1 (Conv2D)               (None, 112, 112, 32)      864       \n",
            "_________________________________________________________________\n",
            "conv1_bn (BatchNormalization (None, 112, 112, 32)      128       \n",
            "_________________________________________________________________\n",
            "conv1_relu (ReLU)            (None, 112, 112, 32)      0         \n",
            "_________________________________________________________________\n",
            "conv_dw_1 (DepthwiseConv2D)  (None, 112, 112, 32)      288       \n",
            "_________________________________________________________________\n",
            "conv_dw_1_bn (BatchNormaliza (None, 112, 112, 32)      128       \n",
            "_________________________________________________________________\n",
            "conv_dw_1_relu (ReLU)        (None, 112, 112, 32)      0         \n",
            "_________________________________________________________________\n",
            "conv_pw_1 (Conv2D)           (None, 112, 112, 64)      2048      \n",
            "_________________________________________________________________\n",
            "conv_pw_1_bn (BatchNormaliza (None, 112, 112, 64)      256       \n",
            "_________________________________________________________________\n",
            "conv_pw_1_relu (ReLU)        (None, 112, 112, 64)      0         \n",
            "_________________________________________________________________\n",
            "conv_pad_2 (ZeroPadding2D)   (None, 113, 113, 64)      0         \n",
            "_________________________________________________________________\n",
            "conv_dw_2 (DepthwiseConv2D)  (None, 56, 56, 64)        576       \n",
            "_________________________________________________________________\n",
            "conv_dw_2_bn (BatchNormaliza (None, 56, 56, 64)        256       \n",
            "_________________________________________________________________\n",
            "conv_dw_2_relu (ReLU)        (None, 56, 56, 64)        0         \n",
            "_________________________________________________________________\n",
            "conv_pw_2 (Conv2D)           (None, 56, 56, 128)       8192      \n",
            "_________________________________________________________________\n",
            "conv_pw_2_bn (BatchNormaliza (None, 56, 56, 128)       512       \n",
            "_________________________________________________________________\n",
            "conv_pw_2_relu (ReLU)        (None, 56, 56, 128)       0         \n",
            "_________________________________________________________________\n",
            "conv_dw_3 (DepthwiseConv2D)  (None, 56, 56, 128)       1152      \n",
            "_________________________________________________________________\n",
            "conv_dw_3_bn (BatchNormaliza (None, 56, 56, 128)       512       \n",
            "_________________________________________________________________\n",
            "conv_dw_3_relu (ReLU)        (None, 56, 56, 128)       0         \n",
            "_________________________________________________________________\n",
            "conv_pw_3 (Conv2D)           (None, 56, 56, 128)       16384     \n",
            "_________________________________________________________________\n",
            "conv_pw_3_bn (BatchNormaliza (None, 56, 56, 128)       512       \n",
            "_________________________________________________________________\n",
            "conv_pw_3_relu (ReLU)        (None, 56, 56, 128)       0         \n",
            "_________________________________________________________________\n",
            "conv_pad_4 (ZeroPadding2D)   (None, 57, 57, 128)       0         \n",
            "_________________________________________________________________\n",
            "conv_dw_4 (DepthwiseConv2D)  (None, 28, 28, 128)       1152      \n",
            "_________________________________________________________________\n",
            "conv_dw_4_bn (BatchNormaliza (None, 28, 28, 128)       512       \n",
            "_________________________________________________________________\n",
            "conv_dw_4_relu (ReLU)        (None, 28, 28, 128)       0         \n",
            "_________________________________________________________________\n",
            "conv_pw_4 (Conv2D)           (None, 28, 28, 256)       32768     \n",
            "_________________________________________________________________\n",
            "conv_pw_4_bn (BatchNormaliza (None, 28, 28, 256)       1024      \n",
            "_________________________________________________________________\n",
            "conv_pw_4_relu (ReLU)        (None, 28, 28, 256)       0         \n",
            "_________________________________________________________________\n",
            "conv_dw_5 (DepthwiseConv2D)  (None, 28, 28, 256)       2304      \n",
            "_________________________________________________________________\n",
            "conv_dw_5_bn (BatchNormaliza (None, 28, 28, 256)       1024      \n",
            "_________________________________________________________________\n",
            "conv_dw_5_relu (ReLU)        (None, 28, 28, 256)       0         \n",
            "_________________________________________________________________\n",
            "conv_pw_5 (Conv2D)           (None, 28, 28, 256)       65536     \n",
            "_________________________________________________________________\n",
            "conv_pw_5_bn (BatchNormaliza (None, 28, 28, 256)       1024      \n",
            "_________________________________________________________________\n",
            "conv_pw_5_relu (ReLU)        (None, 28, 28, 256)       0         \n",
            "_________________________________________________________________\n",
            "conv_pad_6 (ZeroPadding2D)   (None, 29, 29, 256)       0         \n",
            "_________________________________________________________________\n",
            "conv_dw_6 (DepthwiseConv2D)  (None, 14, 14, 256)       2304      \n",
            "_________________________________________________________________\n",
            "conv_dw_6_bn (BatchNormaliza (None, 14, 14, 256)       1024      \n",
            "_________________________________________________________________\n",
            "conv_dw_6_relu (ReLU)        (None, 14, 14, 256)       0         \n",
            "_________________________________________________________________\n",
            "conv_pw_6 (Conv2D)           (None, 14, 14, 512)       131072    \n",
            "_________________________________________________________________\n",
            "conv_pw_6_bn (BatchNormaliza (None, 14, 14, 512)       2048      \n",
            "_________________________________________________________________\n",
            "conv_pw_6_relu (ReLU)        (None, 14, 14, 512)       0         \n",
            "_________________________________________________________________\n",
            "conv_dw_7 (DepthwiseConv2D)  (None, 14, 14, 512)       4608      \n",
            "_________________________________________________________________\n",
            "conv_dw_7_bn (BatchNormaliza (None, 14, 14, 512)       2048      \n",
            "_________________________________________________________________\n",
            "conv_dw_7_relu (ReLU)        (None, 14, 14, 512)       0         \n",
            "_________________________________________________________________\n",
            "conv_pw_7 (Conv2D)           (None, 14, 14, 512)       262144    \n",
            "_________________________________________________________________\n",
            "conv_pw_7_bn (BatchNormaliza (None, 14, 14, 512)       2048      \n",
            "_________________________________________________________________\n",
            "conv_pw_7_relu (ReLU)        (None, 14, 14, 512)       0         \n",
            "_________________________________________________________________\n",
            "conv_dw_8 (DepthwiseConv2D)  (None, 14, 14, 512)       4608      \n",
            "_________________________________________________________________\n",
            "conv_dw_8_bn (BatchNormaliza (None, 14, 14, 512)       2048      \n",
            "_________________________________________________________________\n",
            "conv_dw_8_relu (ReLU)        (None, 14, 14, 512)       0         \n",
            "_________________________________________________________________\n",
            "conv_pw_8 (Conv2D)           (None, 14, 14, 512)       262144    \n",
            "_________________________________________________________________\n",
            "conv_pw_8_bn (BatchNormaliza (None, 14, 14, 512)       2048      \n",
            "_________________________________________________________________\n",
            "conv_pw_8_relu (ReLU)        (None, 14, 14, 512)       0         \n",
            "_________________________________________________________________\n",
            "conv_dw_9 (DepthwiseConv2D)  (None, 14, 14, 512)       4608      \n",
            "_________________________________________________________________\n",
            "conv_dw_9_bn (BatchNormaliza (None, 14, 14, 512)       2048      \n",
            "_________________________________________________________________\n",
            "conv_dw_9_relu (ReLU)        (None, 14, 14, 512)       0         \n",
            "_________________________________________________________________\n",
            "conv_pw_9 (Conv2D)           (None, 14, 14, 512)       262144    \n",
            "_________________________________________________________________\n",
            "conv_pw_9_bn (BatchNormaliza (None, 14, 14, 512)       2048      \n",
            "_________________________________________________________________\n",
            "conv_pw_9_relu (ReLU)        (None, 14, 14, 512)       0         \n",
            "_________________________________________________________________\n",
            "conv_dw_10 (DepthwiseConv2D) (None, 14, 14, 512)       4608      \n",
            "_________________________________________________________________\n",
            "conv_dw_10_bn (BatchNormaliz (None, 14, 14, 512)       2048      \n",
            "_________________________________________________________________\n",
            "conv_dw_10_relu (ReLU)       (None, 14, 14, 512)       0         \n",
            "_________________________________________________________________\n",
            "conv_pw_10 (Conv2D)          (None, 14, 14, 512)       262144    \n",
            "_________________________________________________________________\n",
            "conv_pw_10_bn (BatchNormaliz (None, 14, 14, 512)       2048      \n",
            "_________________________________________________________________\n",
            "conv_pw_10_relu (ReLU)       (None, 14, 14, 512)       0         \n",
            "_________________________________________________________________\n",
            "conv_dw_11 (DepthwiseConv2D) (None, 14, 14, 512)       4608      \n",
            "_________________________________________________________________\n",
            "conv_dw_11_bn (BatchNormaliz (None, 14, 14, 512)       2048      \n",
            "_________________________________________________________________\n",
            "conv_dw_11_relu (ReLU)       (None, 14, 14, 512)       0         \n",
            "_________________________________________________________________\n",
            "conv_pw_11 (Conv2D)          (None, 14, 14, 512)       262144    \n",
            "_________________________________________________________________\n",
            "conv_pw_11_bn (BatchNormaliz (None, 14, 14, 512)       2048      \n",
            "_________________________________________________________________\n",
            "conv_pw_11_relu (ReLU)       (None, 14, 14, 512)       0         \n",
            "_________________________________________________________________\n",
            "conv_pad_12 (ZeroPadding2D)  (None, 15, 15, 512)       0         \n",
            "_________________________________________________________________\n",
            "conv_dw_12 (DepthwiseConv2D) (None, 7, 7, 512)         4608      \n",
            "_________________________________________________________________\n",
            "conv_dw_12_bn (BatchNormaliz (None, 7, 7, 512)         2048      \n",
            "_________________________________________________________________\n",
            "conv_dw_12_relu (ReLU)       (None, 7, 7, 512)         0         \n",
            "_________________________________________________________________\n",
            "conv_pw_12 (Conv2D)          (None, 7, 7, 1024)        524288    \n",
            "_________________________________________________________________\n",
            "conv_pw_12_bn (BatchNormaliz (None, 7, 7, 1024)        4096      \n",
            "_________________________________________________________________\n",
            "conv_pw_12_relu (ReLU)       (None, 7, 7, 1024)        0         \n",
            "_________________________________________________________________\n",
            "conv_dw_13 (DepthwiseConv2D) (None, 7, 7, 1024)        9216      \n",
            "_________________________________________________________________\n",
            "conv_dw_13_bn (BatchNormaliz (None, 7, 7, 1024)        4096      \n",
            "_________________________________________________________________\n",
            "conv_dw_13_relu (ReLU)       (None, 7, 7, 1024)        0         \n",
            "_________________________________________________________________\n",
            "conv_pw_13 (Conv2D)          (None, 7, 7, 1024)        1048576   \n",
            "_________________________________________________________________\n",
            "conv_pw_13_bn (BatchNormaliz (None, 7, 7, 1024)        4096      \n",
            "_________________________________________________________________\n",
            "conv_pw_13_relu (ReLU)       (None, 7, 7, 1024)        0         \n",
            "_________________________________________________________________\n",
            "global_average_pooling2d_3 ( (None, 1024)              0         \n",
            "_________________________________________________________________\n",
            "dense_1 (Dense)              (None, 10)                10250     \n",
            "=================================================================\n",
            "Total params: 3,239,114\n",
            "Trainable params: 3,217,226\n",
            "Non-trainable params: 21,888\n",
            "_________________________________________________________________\n"
          ],
          "name": "stdout"
        }
      ]
    },
    {
      "cell_type": "markdown",
      "metadata": {
        "id": "qFqsuX3BRTwb"
      },
      "source": [
        "## SGD OPT"
      ]
    },
    {
      "cell_type": "code",
      "metadata": {
        "id": "lkmrNHfsqjYf"
      },
      "source": [
        "SGDmodel.compile(SGD(learning_rate=1e-5, momentum=0.9), loss='categorical_crossentropy', metrics=['accuracy'])\n",
        "steps=2172/16"
      ],
      "execution_count": null,
      "outputs": []
    },
    {
      "cell_type": "code",
      "metadata": {
        "colab": {
          "base_uri": "https://localhost:8080/"
        },
        "id": "xS4Ky6dHq0Ep",
        "outputId": "2fc4c375-1825-4dd0-b504-a050dbf3f320"
      },
      "source": [
        "mc = ModelCheckpoint('SGDbest_model.h5', monitor='val_loss', mode='min', save_best_only=True)\n",
        "history = SGDmodel.fit_generator(train_batches, steps_per_epoch=steps,validation_data=valid_batches, validation_steps=3,epochs=70, verbose=2, callbacks=mc)"
      ],
      "execution_count": null,
      "outputs": [
        {
          "output_type": "stream",
          "text": [
            "/usr/local/lib/python3.7/dist-packages/tensorflow/python/keras/engine/training.py:1940: UserWarning: `Model.fit_generator` is deprecated and will be removed in a future version. Please use `Model.fit`, which supports generators.\n",
            "  warnings.warn('`Model.fit_generator` is deprecated and '\n"
          ],
          "name": "stderr"
        },
        {
          "output_type": "stream",
          "text": [
            "Epoch 1/70\n",
            "135/135 - 47s - loss: 2.7239 - accuracy: 0.1114 - val_loss: 2.5985 - val_accuracy: 0.1250\n",
            "Epoch 2/70\n",
            "135/135 - 12s - loss: 2.3809 - accuracy: 0.1763 - val_loss: 2.3019 - val_accuracy: 0.2083\n",
            "Epoch 3/70\n",
            "135/135 - 13s - loss: 2.1399 - accuracy: 0.2555 - val_loss: 2.1891 - val_accuracy: 0.3333\n",
            "Epoch 4/70\n",
            "135/135 - 12s - loss: 1.9531 - accuracy: 0.3297 - val_loss: 2.0128 - val_accuracy: 0.3333\n",
            "Epoch 5/70\n",
            "135/135 - 12s - loss: 1.7915 - accuracy: 0.4052 - val_loss: 1.8204 - val_accuracy: 0.2917\n",
            "Epoch 6/70\n",
            "135/135 - 12s - loss: 1.6647 - accuracy: 0.4664 - val_loss: 1.7655 - val_accuracy: 0.3333\n",
            "Epoch 7/70\n",
            "135/135 - 12s - loss: 1.5518 - accuracy: 0.5239 - val_loss: 1.5883 - val_accuracy: 0.5208\n",
            "Epoch 8/70\n",
            "135/135 - 12s - loss: 1.4736 - accuracy: 0.5608 - val_loss: 1.5839 - val_accuracy: 0.6042\n",
            "Epoch 9/70\n",
            "135/135 - 12s - loss: 1.3697 - accuracy: 0.6128 - val_loss: 1.3638 - val_accuracy: 0.5625\n",
            "Epoch 10/70\n",
            "135/135 - 12s - loss: 1.2893 - accuracy: 0.6377 - val_loss: 1.5037 - val_accuracy: 0.4167\n",
            "Epoch 11/70\n",
            "135/135 - 12s - loss: 1.2287 - accuracy: 0.6736 - val_loss: 1.1615 - val_accuracy: 0.7083\n",
            "Epoch 12/70\n",
            "135/135 - 12s - loss: 1.1599 - accuracy: 0.6934 - val_loss: 1.0313 - val_accuracy: 0.7500\n",
            "Epoch 13/70\n",
            "135/135 - 12s - loss: 1.0985 - accuracy: 0.7265 - val_loss: 1.1035 - val_accuracy: 0.7292\n",
            "Epoch 14/70\n",
            "135/135 - 12s - loss: 1.0382 - accuracy: 0.7597 - val_loss: 1.1577 - val_accuracy: 0.6667\n",
            "Epoch 15/70\n",
            "135/135 - 12s - loss: 1.0012 - accuracy: 0.7569 - val_loss: 1.0921 - val_accuracy: 0.7500\n",
            "Epoch 16/70\n",
            "135/135 - 12s - loss: 0.9490 - accuracy: 0.7831 - val_loss: 0.9486 - val_accuracy: 0.7708\n",
            "Epoch 17/70\n",
            "135/135 - 12s - loss: 0.8989 - accuracy: 0.8108 - val_loss: 0.9198 - val_accuracy: 0.7917\n",
            "Epoch 18/70\n",
            "135/135 - 12s - loss: 0.8719 - accuracy: 0.8094 - val_loss: 0.8027 - val_accuracy: 0.7500\n",
            "Epoch 19/70\n",
            "135/135 - 12s - loss: 0.8332 - accuracy: 0.8264 - val_loss: 0.8231 - val_accuracy: 0.7917\n",
            "Epoch 20/70\n",
            "135/135 - 12s - loss: 0.7982 - accuracy: 0.8356 - val_loss: 0.8274 - val_accuracy: 0.8125\n",
            "Epoch 21/70\n",
            "135/135 - 12s - loss: 0.7756 - accuracy: 0.8412 - val_loss: 0.8810 - val_accuracy: 0.7917\n",
            "Epoch 22/70\n",
            "135/135 - 12s - loss: 0.7414 - accuracy: 0.8596 - val_loss: 0.8670 - val_accuracy: 0.7292\n",
            "Epoch 23/70\n",
            "135/135 - 12s - loss: 0.7139 - accuracy: 0.8564 - val_loss: 0.7427 - val_accuracy: 0.8542\n",
            "Epoch 24/70\n",
            "135/135 - 12s - loss: 0.6808 - accuracy: 0.8785 - val_loss: 0.7376 - val_accuracy: 0.8125\n",
            "Epoch 25/70\n",
            "135/135 - 12s - loss: 0.6616 - accuracy: 0.8831 - val_loss: 0.8006 - val_accuracy: 0.8125\n",
            "Epoch 26/70\n",
            "135/135 - 12s - loss: 0.6424 - accuracy: 0.8835 - val_loss: 0.7772 - val_accuracy: 0.7500\n",
            "Epoch 27/70\n",
            "135/135 - 12s - loss: 0.6117 - accuracy: 0.8992 - val_loss: 0.5743 - val_accuracy: 0.8542\n",
            "Epoch 28/70\n",
            "135/135 - 12s - loss: 0.5987 - accuracy: 0.9019 - val_loss: 0.6428 - val_accuracy: 0.7500\n",
            "Epoch 29/70\n",
            "135/135 - 12s - loss: 0.5875 - accuracy: 0.8950 - val_loss: 0.5570 - val_accuracy: 0.8958\n",
            "Epoch 30/70\n",
            "135/135 - 12s - loss: 0.5647 - accuracy: 0.9024 - val_loss: 0.5589 - val_accuracy: 0.8958\n",
            "Epoch 31/70\n",
            "135/135 - 12s - loss: 0.5412 - accuracy: 0.9130 - val_loss: 0.6031 - val_accuracy: 0.8542\n",
            "Epoch 32/70\n",
            "135/135 - 12s - loss: 0.5238 - accuracy: 0.9153 - val_loss: 0.7173 - val_accuracy: 0.7708\n",
            "Epoch 33/70\n",
            "135/135 - 12s - loss: 0.5126 - accuracy: 0.9185 - val_loss: 0.6367 - val_accuracy: 0.8542\n",
            "Epoch 34/70\n",
            "135/135 - 12s - loss: 0.4958 - accuracy: 0.9208 - val_loss: 0.4869 - val_accuracy: 0.8958\n",
            "Epoch 35/70\n",
            "135/135 - 12s - loss: 0.4908 - accuracy: 0.9273 - val_loss: 0.4463 - val_accuracy: 0.9167\n",
            "Epoch 36/70\n",
            "135/135 - 12s - loss: 0.4636 - accuracy: 0.9286 - val_loss: 0.5009 - val_accuracy: 0.9583\n",
            "Epoch 37/70\n",
            "135/135 - 12s - loss: 0.4585 - accuracy: 0.9346 - val_loss: 0.5914 - val_accuracy: 0.8125\n",
            "Epoch 38/70\n",
            "135/135 - 12s - loss: 0.4422 - accuracy: 0.9378 - val_loss: 0.4663 - val_accuracy: 0.8958\n",
            "Epoch 39/70\n",
            "135/135 - 12s - loss: 0.4308 - accuracy: 0.9415 - val_loss: 0.4640 - val_accuracy: 0.9583\n",
            "Epoch 40/70\n",
            "135/135 - 12s - loss: 0.4201 - accuracy: 0.9489 - val_loss: 0.3361 - val_accuracy: 0.9583\n",
            "Epoch 41/70\n",
            "135/135 - 12s - loss: 0.4182 - accuracy: 0.9448 - val_loss: 0.5201 - val_accuracy: 0.9375\n",
            "Epoch 42/70\n",
            "135/135 - 12s - loss: 0.3990 - accuracy: 0.9457 - val_loss: 0.3829 - val_accuracy: 0.9583\n",
            "Epoch 43/70\n",
            "135/135 - 12s - loss: 0.3962 - accuracy: 0.9443 - val_loss: 0.3708 - val_accuracy: 0.9375\n",
            "Epoch 44/70\n",
            "135/135 - 12s - loss: 0.3783 - accuracy: 0.9507 - val_loss: 0.4356 - val_accuracy: 0.9375\n",
            "Epoch 45/70\n",
            "135/135 - 12s - loss: 0.3700 - accuracy: 0.9521 - val_loss: 0.5072 - val_accuracy: 0.7917\n",
            "Epoch 46/70\n",
            "135/135 - 12s - loss: 0.3562 - accuracy: 0.9572 - val_loss: 0.4695 - val_accuracy: 0.8333\n",
            "Epoch 47/70\n",
            "135/135 - 12s - loss: 0.3591 - accuracy: 0.9563 - val_loss: 0.3789 - val_accuracy: 0.9583\n",
            "Epoch 48/70\n",
            "135/135 - 12s - loss: 0.3515 - accuracy: 0.9590 - val_loss: 0.5235 - val_accuracy: 0.9167\n",
            "Epoch 49/70\n",
            "135/135 - 12s - loss: 0.3388 - accuracy: 0.9586 - val_loss: 0.3218 - val_accuracy: 0.9167\n",
            "Epoch 50/70\n",
            "135/135 - 12s - loss: 0.3329 - accuracy: 0.9576 - val_loss: 0.3654 - val_accuracy: 0.9167\n",
            "Epoch 51/70\n",
            "135/135 - 12s - loss: 0.3276 - accuracy: 0.9636 - val_loss: 0.4527 - val_accuracy: 0.9583\n",
            "Epoch 52/70\n",
            "135/135 - 12s - loss: 0.3108 - accuracy: 0.9613 - val_loss: 0.4487 - val_accuracy: 0.8750\n",
            "Epoch 53/70\n",
            "135/135 - 12s - loss: 0.3079 - accuracy: 0.9645 - val_loss: 0.5265 - val_accuracy: 0.8750\n",
            "Epoch 54/70\n",
            "135/135 - 12s - loss: 0.3050 - accuracy: 0.9669 - val_loss: 0.3340 - val_accuracy: 0.9375\n",
            "Epoch 55/70\n",
            "135/135 - 12s - loss: 0.2957 - accuracy: 0.9650 - val_loss: 0.2796 - val_accuracy: 0.9583\n",
            "Epoch 56/70\n",
            "135/135 - 12s - loss: 0.2997 - accuracy: 0.9627 - val_loss: 0.3568 - val_accuracy: 0.8958\n",
            "Epoch 57/70\n",
            "135/135 - 12s - loss: 0.2849 - accuracy: 0.9719 - val_loss: 0.3185 - val_accuracy: 0.9792\n",
            "Epoch 58/70\n",
            "135/135 - 12s - loss: 0.2840 - accuracy: 0.9655 - val_loss: 0.4226 - val_accuracy: 0.9167\n",
            "Epoch 59/70\n",
            "135/135 - 12s - loss: 0.2851 - accuracy: 0.9728 - val_loss: 0.3217 - val_accuracy: 0.9792\n",
            "Epoch 60/70\n",
            "135/135 - 12s - loss: 0.2741 - accuracy: 0.9715 - val_loss: 0.3647 - val_accuracy: 0.8958\n",
            "Epoch 61/70\n",
            "135/135 - 12s - loss: 0.2615 - accuracy: 0.9724 - val_loss: 0.3851 - val_accuracy: 0.8958\n",
            "Epoch 62/70\n",
            "135/135 - 12s - loss: 0.2559 - accuracy: 0.9733 - val_loss: 0.2814 - val_accuracy: 0.9792\n",
            "Epoch 63/70\n",
            "135/135 - 12s - loss: 0.2481 - accuracy: 0.9761 - val_loss: 0.2839 - val_accuracy: 0.9375\n",
            "Epoch 64/70\n",
            "135/135 - 12s - loss: 0.2434 - accuracy: 0.9774 - val_loss: 0.2953 - val_accuracy: 0.9167\n",
            "Epoch 65/70\n",
            "135/135 - 12s - loss: 0.2490 - accuracy: 0.9733 - val_loss: 0.3643 - val_accuracy: 0.8750\n",
            "Epoch 66/70\n",
            "135/135 - 12s - loss: 0.2331 - accuracy: 0.9797 - val_loss: 0.2419 - val_accuracy: 0.9375\n",
            "Epoch 67/70\n",
            "135/135 - 12s - loss: 0.2359 - accuracy: 0.9751 - val_loss: 0.2280 - val_accuracy: 0.9583\n",
            "Epoch 68/70\n",
            "135/135 - 12s - loss: 0.2404 - accuracy: 0.9733 - val_loss: 0.2856 - val_accuracy: 0.9167\n",
            "Epoch 69/70\n",
            "135/135 - 12s - loss: 0.2319 - accuracy: 0.9738 - val_loss: 0.2116 - val_accuracy: 0.9375\n",
            "Epoch 70/70\n",
            "135/135 - 12s - loss: 0.2230 - accuracy: 0.9797 - val_loss: 0.2726 - val_accuracy: 0.9583\n"
          ],
          "name": "stdout"
        }
      ]
    },
    {
      "cell_type": "code",
      "metadata": {
        "colab": {
          "base_uri": "https://localhost:8080/",
          "height": 573
        },
        "id": "6vB8a5pMWRd-",
        "outputId": "5b2c7da5-9d63-4527-c3cb-aa232bae690d"
      },
      "source": [
        "# summarize history for accuracy\n",
        "plt.plot(history.history['accuracy'])\n",
        "plt.plot(history.history['val_accuracy'])\n",
        "plt.title('model accuracy')\n",
        "plt.ylabel('accuracy')\n",
        "plt.xlabel('epoch')\n",
        "plt.legend(['train', 'valid'], loc='upper left')\n",
        "plt.show()\n",
        "# summarize history for loss\n",
        "plt.plot(history.history['loss'])\n",
        "plt.plot(history.history['val_loss'])\n",
        "plt.title('model loss')\n",
        "plt.ylabel('loss')\n",
        "plt.xlabel('epoch')\n",
        "plt.legend(['train', 'valid'], loc='upper left')\n",
        "plt.show()"
      ],
      "execution_count": null,
      "outputs": [
        {
          "output_type": "display_data",
          "data": {
            "image/png": "[encoded data removed]",
            "text/plain": [
              "<Figure size 432x288 with 1 Axes>"
            ]
          },
          "metadata": {
            "tags": [],
            "needs_background": "light"
          }
        },
        {
          "output_type": "display_data",
          "data": {
            "image/png": "[encoded data removed]",
            "text/plain": [
              "<Figure size 432x288 with 1 Axes>"
            ]
          },
          "metadata": {
            "tags": [],
            "needs_background": "light"
          }
        }
      ]
    },
    {
      "cell_type": "code",
      "metadata": {
        "id": "1PaWLhIYswP0",
        "colab": {
          "base_uri": "https://localhost:8080/"
        },
        "outputId": "e31c0bef-afcd-4390-ce96-345a45e367c6"
      },
      "source": [
        "test_labels = test_batches.classes\n",
        "predictions = SGDmodel.predict_generator(test_batches, steps=5, verbose=0)"
      ],
      "execution_count": null,
      "outputs": [
        {
          "output_type": "stream",
          "text": [
            "/usr/local/lib/python3.7/dist-packages/tensorflow/python/keras/engine/training.py:2001: UserWarning: `Model.predict_generator` is deprecated and will be removed in a future version. Please use `Model.predict`, which supports generators.\n",
            "  warnings.warn('`Model.predict_generator` is deprecated and '\n"
          ],
          "name": "stderr"
        }
      ]
    },
    {
      "cell_type": "code",
      "metadata": {
        "id": "BIi81ql2vGN1"
      },
      "source": [
        "cm = confusion_matrix(test_labels, predictions.argmax(axis=1))"
      ],
      "execution_count": null,
      "outputs": []
    },
    {
      "cell_type": "code",
      "metadata": {
        "colab": {
          "base_uri": "https://localhost:8080/"
        },
        "id": "DdpBJmKDy_xo",
        "outputId": "b5da4121-dadb-4763-c6f6-4fe43e658923"
      },
      "source": [
        "test_batches.class_indices"
      ],
      "execution_count": null,
      "outputs": [
        {
          "output_type": "execute_result",
          "data": {
            "text/plain": [
              "{'0': 0,\n",
              " '1': 1,\n",
              " '2': 2,\n",
              " '3': 3,\n",
              " '4': 4,\n",
              " '5': 5,\n",
              " '6': 6,\n",
              " '7': 7,\n",
              " '8': 8,\n",
              " '9': 9}"
            ]
          },
          "metadata": {
            "tags": []
          },
          "execution_count": 48
        }
      ]
    },
    {
      "cell_type": "code",
      "metadata": {
        "id": "X34WxeQ3z0Uc"
      },
      "source": [
        "def plot_confusion_matrix(cm, classes,\n",
        "                        normalize=False,\n",
        "                        title='Confusion matrix',\n",
        "                        cmap=plt.cm.Blues):\n",
        "    \"\"\"\n",
        "    This function prints and plots the confusion matrix.\n",
        "    Normalization can be applied by setting `normalize=True`.\n",
        "    \"\"\"\n",
        "    plt.imshow(cm, interpolation='nearest', cmap=cmap)\n",
        "    plt.title(title)\n",
        "    plt.colorbar()\n",
        "    tick_marks = np.arange(len(classes))\n",
        "    plt.xticks(tick_marks, classes, rotation=45)\n",
        "    plt.yticks(tick_marks, classes)\n",
        "\n",
        "    if normalize:\n",
        "        cm = cm.astype('float') / cm.sum(axis=1)[:, np.newaxis]\n",
        "        print(\"Normalized confusion matrix\")\n",
        "    else:\n",
        "        print('Confusion matrix, without normalization')\n",
        "\n",
        "    print(cm)\n",
        "\n",
        "    thresh = cm.max() / 2.\n",
        "    for i, j in itertools.product(range(cm.shape[0]), range(cm.shape[1])):\n",
        "        plt.text(j, i, cm[i, j],\n",
        "            horizontalalignment=\"center\",\n",
        "            color=\"white\" if cm[i, j] > thresh else \"black\")\n",
        "\n",
        "    plt.tight_layout()\n",
        "    plt.ylabel('True label')\n",
        "    plt.xlabel('Predicted label')"
      ],
      "execution_count": null,
      "outputs": []
    },
    {
      "cell_type": "code",
      "metadata": {
        "colab": {
          "base_uri": "https://localhost:8080/",
          "height": 498
        },
        "id": "CjFUUUaBzGrA",
        "outputId": "efffcc72-7edc-4704-f603-c42be7f62554"
      },
      "source": [
        "cm_plot_labels = ['0','1','2','3','4','5','6','7','8','9']\n",
        "plot_confusion_matrix(cm, cm_plot_labels, title='confusion matrix')"
      ],
      "execution_count": null,
      "outputs": [
        {
          "output_type": "stream",
          "text": [
            "Confusion matrix, without normalization\n",
            "[[5 0 0 0 0 0 0 0 0 0]\n",
            " [0 5 0 0 0 0 0 0 0 0]\n",
            " [0 0 5 0 0 0 0 0 0 0]\n",
            " [0 0 0 5 0 0 0 0 0 0]\n",
            " [0 0 0 0 5 0 0 0 0 0]\n",
            " [0 0 0 0 0 5 0 0 0 0]\n",
            " [0 0 0 0 0 0 5 0 0 0]\n",
            " [0 0 0 0 0 0 1 4 0 0]\n",
            " [0 0 0 1 0 0 0 2 2 0]\n",
            " [0 0 0 0 0 0 0 0 0 5]]\n"
          ],
          "name": "stdout"
        },
        {
          "output_type": "display_data",
          "data": {
            "image/png": "[encoded data removed]",
            "text/plain": [
              "<Figure size 432x288 with 2 Axes>"
            ]
          },
          "metadata": {
            "tags": [],
            "needs_background": "light"
          }
        }
      ]
    },
    {
      "cell_type": "code",
      "metadata": {
        "id": "B6lzq0l60NUC"
      },
      "source": [
        "SGDmodel.save('BDmobile_handsRGB_model.h5')"
      ],
      "execution_count": null,
      "outputs": []
    },
    {
      "cell_type": "code",
      "metadata": {
        "colab": {
          "base_uri": "https://localhost:8080/"
        },
        "id": "88iWeEGwhWNA",
        "outputId": "68fa4340-2b99-4975-a4dd-55e42a970f79"
      },
      "source": [
        "test_labels"
      ],
      "execution_count": null,
      "outputs": [
        {
          "output_type": "execute_result",
          "data": {
            "text/plain": [
              "array([0, 0, 0, 0, 0, 1, 1, 1, 1, 1, 2, 2, 2, 2, 2, 3, 3, 3, 3, 3, 4, 4,\n",
              "       4, 4, 4, 5, 5, 5, 5, 5, 6, 6, 6, 6, 6, 7, 7, 7, 7, 7, 8, 8, 8, 8,\n",
              "       8, 9, 9, 9, 9, 9], dtype=int32)"
            ]
          },
          "metadata": {
            "tags": []
          },
          "execution_count": 52
        }
      ]
    },
    {
      "cell_type": "code",
      "metadata": {
        "colab": {
          "base_uri": "https://localhost:8080/"
        },
        "id": "WuaejYmOeisq",
        "outputId": "eb19adc9-de8e-4d5a-8e17-259888388685"
      },
      "source": [
        "mobile = keras.applications.mobilenet.MobileNet()\n",
        "mobile.summary()"
      ],
      "execution_count": null,
      "outputs": [
        {
          "output_type": "stream",
          "text": [
            "Model: \"mobilenet_1.00_224\"\n",
            "_________________________________________________________________\n",
            "Layer (type)                 Output Shape              Param #   \n",
            "=================================================================\n",
            "input_5 (InputLayer)         [(None, 224, 224, 3)]     0         \n",
            "_________________________________________________________________\n",
            "conv1 (Conv2D)               (None, 112, 112, 32)      864       \n",
            "_________________________________________________________________\n",
            "conv1_bn (BatchNormalization (None, 112, 112, 32)      128       \n",
            "_________________________________________________________________\n",
            "conv1_relu (ReLU)            (None, 112, 112, 32)      0         \n",
            "_________________________________________________________________\n",
            "conv_dw_1 (DepthwiseConv2D)  (None, 112, 112, 32)      288       \n",
            "_________________________________________________________________\n",
            "conv_dw_1_bn (BatchNormaliza (None, 112, 112, 32)      128       \n",
            "_________________________________________________________________\n",
            "conv_dw_1_relu (ReLU)        (None, 112, 112, 32)      0         \n",
            "_________________________________________________________________\n",
            "conv_pw_1 (Conv2D)           (None, 112, 112, 64)      2048      \n",
            "_________________________________________________________________\n",
            "conv_pw_1_bn (BatchNormaliza (None, 112, 112, 64)      256       \n",
            "_________________________________________________________________\n",
            "conv_pw_1_relu (ReLU)        (None, 112, 112, 64)      0         \n",
            "_________________________________________________________________\n",
            "conv_pad_2 (ZeroPadding2D)   (None, 113, 113, 64)      0         \n",
            "_________________________________________________________________\n",
            "conv_dw_2 (DepthwiseConv2D)  (None, 56, 56, 64)        576       \n",
            "_________________________________________________________________\n",
            "conv_dw_2_bn (BatchNormaliza (None, 56, 56, 64)        256       \n",
            "_________________________________________________________________\n",
            "conv_dw_2_relu (ReLU)        (None, 56, 56, 64)        0         \n",
            "_________________________________________________________________\n",
            "conv_pw_2 (Conv2D)           (None, 56, 56, 128)       8192      \n",
            "_________________________________________________________________\n",
            "conv_pw_2_bn (BatchNormaliza (None, 56, 56, 128)       512       \n",
            "_________________________________________________________________\n",
            "conv_pw_2_relu (ReLU)        (None, 56, 56, 128)       0         \n",
            "_________________________________________________________________\n",
            "conv_dw_3 (DepthwiseConv2D)  (None, 56, 56, 128)       1152      \n",
            "_________________________________________________________________\n",
            "conv_dw_3_bn (BatchNormaliza (None, 56, 56, 128)       512       \n",
            "_________________________________________________________________\n",
            "conv_dw_3_relu (ReLU)        (None, 56, 56, 128)       0         \n",
            "_________________________________________________________________\n",
            "conv_pw_3 (Conv2D)           (None, 56, 56, 128)       16384     \n",
            "_________________________________________________________________\n",
            "conv_pw_3_bn (BatchNormaliza (None, 56, 56, 128)       512       \n",
            "_________________________________________________________________\n",
            "conv_pw_3_relu (ReLU)        (None, 56, 56, 128)       0         \n",
            "_________________________________________________________________\n",
            "conv_pad_4 (ZeroPadding2D)   (None, 57, 57, 128)       0         \n",
            "_________________________________________________________________\n",
            "conv_dw_4 (DepthwiseConv2D)  (None, 28, 28, 128)       1152      \n",
            "_________________________________________________________________\n",
            "conv_dw_4_bn (BatchNormaliza (None, 28, 28, 128)       512       \n",
            "_________________________________________________________________\n",
            "conv_dw_4_relu (ReLU)        (None, 28, 28, 128)       0         \n",
            "_________________________________________________________________\n",
            "conv_pw_4 (Conv2D)           (None, 28, 28, 256)       32768     \n",
            "_________________________________________________________________\n",
            "conv_pw_4_bn (BatchNormaliza (None, 28, 28, 256)       1024      \n",
            "_________________________________________________________________\n",
            "conv_pw_4_relu (ReLU)        (None, 28, 28, 256)       0         \n",
            "_________________________________________________________________\n",
            "conv_dw_5 (DepthwiseConv2D)  (None, 28, 28, 256)       2304      \n",
            "_________________________________________________________________\n",
            "conv_dw_5_bn (BatchNormaliza (None, 28, 28, 256)       1024      \n",
            "_________________________________________________________________\n",
            "conv_dw_5_relu (ReLU)        (None, 28, 28, 256)       0         \n",
            "_________________________________________________________________\n",
            "conv_pw_5 (Conv2D)           (None, 28, 28, 256)       65536     \n",
            "_________________________________________________________________\n",
            "conv_pw_5_bn (BatchNormaliza (None, 28, 28, 256)       1024      \n",
            "_________________________________________________________________\n",
            "conv_pw_5_relu (ReLU)        (None, 28, 28, 256)       0         \n",
            "_________________________________________________________________\n",
            "conv_pad_6 (ZeroPadding2D)   (None, 29, 29, 256)       0         \n",
            "_________________________________________________________________\n",
            "conv_dw_6 (DepthwiseConv2D)  (None, 14, 14, 256)       2304      \n",
            "_________________________________________________________________\n",
            "conv_dw_6_bn (BatchNormaliza (None, 14, 14, 256)       1024      \n",
            "_________________________________________________________________\n",
            "conv_dw_6_relu (ReLU)        (None, 14, 14, 256)       0         \n",
            "_________________________________________________________________\n",
            "conv_pw_6 (Conv2D)           (None, 14, 14, 512)       131072    \n",
            "_________________________________________________________________\n",
            "conv_pw_6_bn (BatchNormaliza (None, 14, 14, 512)       2048      \n",
            "_________________________________________________________________\n",
            "conv_pw_6_relu (ReLU)        (None, 14, 14, 512)       0         \n",
            "_________________________________________________________________\n",
            "conv_dw_7 (DepthwiseConv2D)  (None, 14, 14, 512)       4608      \n",
            "_________________________________________________________________\n",
            "conv_dw_7_bn (BatchNormaliza (None, 14, 14, 512)       2048      \n",
            "_________________________________________________________________\n",
            "conv_dw_7_relu (ReLU)        (None, 14, 14, 512)       0         \n",
            "_________________________________________________________________\n",
            "conv_pw_7 (Conv2D)           (None, 14, 14, 512)       262144    \n",
            "_________________________________________________________________\n",
            "conv_pw_7_bn (BatchNormaliza (None, 14, 14, 512)       2048      \n",
            "_________________________________________________________________\n",
            "conv_pw_7_relu (ReLU)        (None, 14, 14, 512)       0         \n",
            "_________________________________________________________________\n",
            "conv_dw_8 (DepthwiseConv2D)  (None, 14, 14, 512)       4608      \n",
            "_________________________________________________________________\n",
            "conv_dw_8_bn (BatchNormaliza (None, 14, 14, 512)       2048      \n",
            "_________________________________________________________________\n",
            "conv_dw_8_relu (ReLU)        (None, 14, 14, 512)       0         \n",
            "_________________________________________________________________\n",
            "conv_pw_8 (Conv2D)           (None, 14, 14, 512)       262144    \n",
            "_________________________________________________________________\n",
            "conv_pw_8_bn (BatchNormaliza (None, 14, 14, 512)       2048      \n",
            "_________________________________________________________________\n",
            "conv_pw_8_relu (ReLU)        (None, 14, 14, 512)       0         \n",
            "_________________________________________________________________\n",
            "conv_dw_9 (DepthwiseConv2D)  (None, 14, 14, 512)       4608      \n",
            "_________________________________________________________________\n",
            "conv_dw_9_bn (BatchNormaliza (None, 14, 14, 512)       2048      \n",
            "_________________________________________________________________\n",
            "conv_dw_9_relu (ReLU)        (None, 14, 14, 512)       0         \n",
            "_________________________________________________________________\n",
            "conv_pw_9 (Conv2D)           (None, 14, 14, 512)       262144    \n",
            "_________________________________________________________________\n",
            "conv_pw_9_bn (BatchNormaliza (None, 14, 14, 512)       2048      \n",
            "_________________________________________________________________\n",
            "conv_pw_9_relu (ReLU)        (None, 14, 14, 512)       0         \n",
            "_________________________________________________________________\n",
            "conv_dw_10 (DepthwiseConv2D) (None, 14, 14, 512)       4608      \n",
            "_________________________________________________________________\n",
            "conv_dw_10_bn (BatchNormaliz (None, 14, 14, 512)       2048      \n",
            "_________________________________________________________________\n",
            "conv_dw_10_relu (ReLU)       (None, 14, 14, 512)       0         \n",
            "_________________________________________________________________\n",
            "conv_pw_10 (Conv2D)          (None, 14, 14, 512)       262144    \n",
            "_________________________________________________________________\n",
            "conv_pw_10_bn (BatchNormaliz (None, 14, 14, 512)       2048      \n",
            "_________________________________________________________________\n",
            "conv_pw_10_relu (ReLU)       (None, 14, 14, 512)       0         \n",
            "_________________________________________________________________\n",
            "conv_dw_11 (DepthwiseConv2D) (None, 14, 14, 512)       4608      \n",
            "_________________________________________________________________\n",
            "conv_dw_11_bn (BatchNormaliz (None, 14, 14, 512)       2048      \n",
            "_________________________________________________________________\n",
            "conv_dw_11_relu (ReLU)       (None, 14, 14, 512)       0         \n",
            "_________________________________________________________________\n",
            "conv_pw_11 (Conv2D)          (None, 14, 14, 512)       262144    \n",
            "_________________________________________________________________\n",
            "conv_pw_11_bn (BatchNormaliz (None, 14, 14, 512)       2048      \n",
            "_________________________________________________________________\n",
            "conv_pw_11_relu (ReLU)       (None, 14, 14, 512)       0         \n",
            "_________________________________________________________________\n",
            "conv_pad_12 (ZeroPadding2D)  (None, 15, 15, 512)       0         \n",
            "_________________________________________________________________\n",
            "conv_dw_12 (DepthwiseConv2D) (None, 7, 7, 512)         4608      \n",
            "_________________________________________________________________\n",
            "conv_dw_12_bn (BatchNormaliz (None, 7, 7, 512)         2048      \n",
            "_________________________________________________________________\n",
            "conv_dw_12_relu (ReLU)       (None, 7, 7, 512)         0         \n",
            "_________________________________________________________________\n",
            "conv_pw_12 (Conv2D)          (None, 7, 7, 1024)        524288    \n",
            "_________________________________________________________________\n",
            "conv_pw_12_bn (BatchNormaliz (None, 7, 7, 1024)        4096      \n",
            "_________________________________________________________________\n",
            "conv_pw_12_relu (ReLU)       (None, 7, 7, 1024)        0         \n",
            "_________________________________________________________________\n",
            "conv_dw_13 (DepthwiseConv2D) (None, 7, 7, 1024)        9216      \n",
            "_________________________________________________________________\n",
            "conv_dw_13_bn (BatchNormaliz (None, 7, 7, 1024)        4096      \n",
            "_________________________________________________________________\n",
            "conv_dw_13_relu (ReLU)       (None, 7, 7, 1024)        0         \n",
            "_________________________________________________________________\n",
            "conv_pw_13 (Conv2D)          (None, 7, 7, 1024)        1048576   \n",
            "_________________________________________________________________\n",
            "conv_pw_13_bn (BatchNormaliz (None, 7, 7, 1024)        4096      \n",
            "_________________________________________________________________\n",
            "conv_pw_13_relu (ReLU)       (None, 7, 7, 1024)        0         \n",
            "_________________________________________________________________\n",
            "global_average_pooling2d_4 ( (None, 1024)              0         \n",
            "_________________________________________________________________\n",
            "reshape_1 (Reshape)          (None, 1, 1, 1024)        0         \n",
            "_________________________________________________________________\n",
            "dropout (Dropout)            (None, 1, 1, 1024)        0         \n",
            "_________________________________________________________________\n",
            "conv_preds (Conv2D)          (None, 1, 1, 1000)        1025000   \n",
            "_________________________________________________________________\n",
            "reshape_2 (Reshape)          (None, 1000)              0         \n",
            "_________________________________________________________________\n",
            "predictions (Activation)     (None, 1000)              0         \n",
            "=================================================================\n",
            "Total params: 4,253,864\n",
            "Trainable params: 4,231,976\n",
            "Non-trainable params: 21,888\n",
            "_________________________________________________________________\n"
          ],
          "name": "stdout"
        }
      ]
    },
    {
      "cell_type": "code",
      "metadata": {
        "id": "jZI5V1qaetbR"
      },
      "source": [
        "x = mobile.layers[-6].output\n",
        "# we take out only the last 6 layers\n",
        "predictions = Dense(10, activation='softmax')(x) #si va ad aggiungere dopo l'ultimo global average pooling\n",
        "# we add the output layer\n",
        "RMSmodel = Model(inputs=mobile.input, outputs=predictions)\n"
      ],
      "execution_count": null,
      "outputs": []
    },
    {
      "cell_type": "code",
      "metadata": {
        "id": "6Ns9LhxAetbT"
      },
      "source": [
        "for layer in RMSmodel.layers:\n",
        "  layer.trainable = True\n"
      ],
      "execution_count": null,
      "outputs": []
    },
    {
      "cell_type": "code",
      "metadata": {
        "id": "tky1ADZde9cp"
      },
      "source": [
        "RMSmodel.compile(RMSprop(\n",
        "    learning_rate=1e-7, rho=0.9, momentum=0.95, epsilon=1e-07), loss='categorical_crossentropy', metrics=['accuracy'])\n",
        "steps=2172/16"
      ],
      "execution_count": null,
      "outputs": []
    },
    {
      "cell_type": "markdown",
      "metadata": {
        "id": "kZ0kNLVVReI2"
      },
      "source": [
        "## RMSprop"
      ]
    },
    {
      "cell_type": "code",
      "metadata": {
        "colab": {
          "base_uri": "https://localhost:8080/"
        },
        "id": "OgjowKd4e9cr",
        "outputId": "c5dc4802-7877-4740-eba3-95f0d110b341"
      },
      "source": [
        "mc = ModelCheckpoint('RMSbest_model.h5', monitor='val_loss', mode='min', save_best_only=True)\n",
        "history = RMSmodel.fit_generator(train_batches, steps_per_epoch=steps,validation_data=valid_batches, validation_steps=3,epochs=50, verbose=2, callbacks=mc)"
      ],
      "execution_count": null,
      "outputs": [
        {
          "output_type": "stream",
          "text": [
            "/usr/local/lib/python3.7/dist-packages/tensorflow/python/keras/engine/training.py:1940: UserWarning: `Model.fit_generator` is deprecated and will be removed in a future version. Please use `Model.fit`, which supports generators.\n",
            "  warnings.warn('`Model.fit_generator` is deprecated and '\n"
          ],
          "name": "stderr"
        },
        {
          "output_type": "stream",
          "text": [
            "Epoch 1/50\n",
            "135/135 - 15s - loss: 2.6544 - accuracy: 0.1252 - val_loss: 2.5616 - val_accuracy: 0.1250\n",
            "Epoch 2/50\n",
            "135/135 - 13s - loss: 2.3081 - accuracy: 0.2007 - val_loss: 2.1687 - val_accuracy: 0.1667\n",
            "Epoch 3/50\n",
            "135/135 - 13s - loss: 1.9949 - accuracy: 0.3140 - val_loss: 2.0536 - val_accuracy: 0.2917\n",
            "Epoch 4/50\n",
            "135/135 - 13s - loss: 1.7305 - accuracy: 0.4282 - val_loss: 1.6915 - val_accuracy: 0.3542\n",
            "Epoch 5/50\n",
            "135/135 - 13s - loss: 1.5167 - accuracy: 0.5267 - val_loss: 1.3957 - val_accuracy: 0.5000\n",
            "Epoch 6/50\n",
            "135/135 - 13s - loss: 1.3445 - accuracy: 0.6142 - val_loss: 1.3502 - val_accuracy: 0.6250\n",
            "Epoch 7/50\n",
            "135/135 - 13s - loss: 1.1892 - accuracy: 0.6763 - val_loss: 1.1368 - val_accuracy: 0.6667\n",
            "Epoch 8/50\n",
            "135/135 - 13s - loss: 1.0575 - accuracy: 0.7366 - val_loss: 1.0270 - val_accuracy: 0.7500\n",
            "Epoch 9/50\n",
            "135/135 - 13s - loss: 0.9569 - accuracy: 0.7652 - val_loss: 0.9077 - val_accuracy: 0.7292\n",
            "Epoch 10/50\n",
            "135/135 - 13s - loss: 0.8517 - accuracy: 0.8062 - val_loss: 0.8069 - val_accuracy: 0.7708\n",
            "Epoch 11/50\n",
            "135/135 - 13s - loss: 0.7751 - accuracy: 0.8297 - val_loss: 0.8147 - val_accuracy: 0.7917\n",
            "Epoch 12/50\n",
            "135/135 - 13s - loss: 0.7108 - accuracy: 0.8439 - val_loss: 0.6797 - val_accuracy: 0.7708\n",
            "Epoch 13/50\n",
            "135/135 - 13s - loss: 0.6362 - accuracy: 0.8821 - val_loss: 0.7386 - val_accuracy: 0.7500\n",
            "Epoch 14/50\n",
            "135/135 - 13s - loss: 0.5787 - accuracy: 0.9019 - val_loss: 0.5021 - val_accuracy: 0.8542\n",
            "Epoch 15/50\n",
            "135/135 - 13s - loss: 0.5283 - accuracy: 0.9157 - val_loss: 0.6615 - val_accuracy: 0.8750\n",
            "Epoch 16/50\n",
            "135/135 - 13s - loss: 0.4895 - accuracy: 0.9121 - val_loss: 0.4797 - val_accuracy: 0.9375\n",
            "Epoch 17/50\n",
            "135/135 - 13s - loss: 0.4398 - accuracy: 0.9273 - val_loss: 0.4642 - val_accuracy: 0.8958\n",
            "Epoch 18/50\n",
            "135/135 - 13s - loss: 0.4041 - accuracy: 0.9424 - val_loss: 0.4591 - val_accuracy: 0.8542\n",
            "Epoch 19/50\n",
            "135/135 - 13s - loss: 0.3741 - accuracy: 0.9452 - val_loss: 0.5163 - val_accuracy: 0.8750\n",
            "Epoch 20/50\n",
            "135/135 - 13s - loss: 0.3441 - accuracy: 0.9544 - val_loss: 0.3150 - val_accuracy: 0.9375\n",
            "Epoch 21/50\n",
            "135/135 - 13s - loss: 0.3143 - accuracy: 0.9517 - val_loss: 0.3208 - val_accuracy: 0.9792\n",
            "Epoch 22/50\n",
            "135/135 - 13s - loss: 0.2853 - accuracy: 0.9655 - val_loss: 0.4098 - val_accuracy: 0.9375\n",
            "Epoch 23/50\n",
            "135/135 - 13s - loss: 0.2742 - accuracy: 0.9636 - val_loss: 0.3220 - val_accuracy: 0.9167\n",
            "Epoch 24/50\n",
            "135/135 - 13s - loss: 0.2471 - accuracy: 0.9738 - val_loss: 0.3037 - val_accuracy: 0.9583\n",
            "Epoch 25/50\n",
            "135/135 - 13s - loss: 0.2214 - accuracy: 0.9751 - val_loss: 0.2354 - val_accuracy: 0.9375\n",
            "Epoch 26/50\n",
            "135/135 - 13s - loss: 0.2074 - accuracy: 0.9816 - val_loss: 0.4019 - val_accuracy: 0.8750\n",
            "Epoch 27/50\n",
            "135/135 - 12s - loss: 0.1830 - accuracy: 0.9816 - val_loss: 0.1827 - val_accuracy: 1.0000\n",
            "Epoch 28/50\n",
            "135/135 - 13s - loss: 0.1737 - accuracy: 0.9807 - val_loss: 0.2136 - val_accuracy: 0.9792\n",
            "Epoch 29/50\n",
            "135/135 - 13s - loss: 0.1666 - accuracy: 0.9843 - val_loss: 0.2119 - val_accuracy: 0.9792\n",
            "Epoch 30/50\n",
            "135/135 - 13s - loss: 0.1481 - accuracy: 0.9899 - val_loss: 0.1925 - val_accuracy: 0.9583\n",
            "Epoch 31/50\n",
            "135/135 - 13s - loss: 0.1426 - accuracy: 0.9913 - val_loss: 0.2599 - val_accuracy: 0.9583\n",
            "Epoch 32/50\n",
            "135/135 - 13s - loss: 0.1277 - accuracy: 0.9931 - val_loss: 0.2008 - val_accuracy: 0.9583\n",
            "Epoch 33/50\n",
            "135/135 - 12s - loss: 0.1163 - accuracy: 0.9940 - val_loss: 0.1704 - val_accuracy: 0.9583\n",
            "Epoch 34/50\n",
            "135/135 - 13s - loss: 0.1113 - accuracy: 0.9926 - val_loss: 0.2153 - val_accuracy: 0.9167\n",
            "Epoch 35/50\n",
            "135/135 - 13s - loss: 0.1004 - accuracy: 0.9949 - val_loss: 0.1959 - val_accuracy: 0.9167\n",
            "Epoch 36/50\n",
            "135/135 - 13s - loss: 0.0936 - accuracy: 0.9954 - val_loss: 0.1494 - val_accuracy: 0.9583\n",
            "Epoch 37/50\n",
            "135/135 - 13s - loss: 0.0880 - accuracy: 0.9977 - val_loss: 0.1543 - val_accuracy: 0.9583\n",
            "Epoch 38/50\n",
            "135/135 - 13s - loss: 0.0867 - accuracy: 0.9954 - val_loss: 0.1298 - val_accuracy: 0.9583\n",
            "Epoch 39/50\n",
            "135/135 - 13s - loss: 0.0762 - accuracy: 0.9972 - val_loss: 0.1624 - val_accuracy: 0.9583\n",
            "Epoch 40/50\n",
            "135/135 - 13s - loss: 0.0694 - accuracy: 0.9972 - val_loss: 0.1499 - val_accuracy: 0.9375\n",
            "Epoch 41/50\n",
            "135/135 - 13s - loss: 0.0716 - accuracy: 0.9968 - val_loss: 0.1493 - val_accuracy: 0.9375\n",
            "Epoch 42/50\n",
            "135/135 - 13s - loss: 0.0639 - accuracy: 0.9949 - val_loss: 0.0533 - val_accuracy: 1.0000\n",
            "Epoch 43/50\n",
            "135/135 - 13s - loss: 0.0581 - accuracy: 0.9972 - val_loss: 0.0869 - val_accuracy: 0.9792\n",
            "Epoch 44/50\n",
            "135/135 - 13s - loss: 0.0558 - accuracy: 0.9977 - val_loss: 0.1409 - val_accuracy: 0.9792\n",
            "Epoch 45/50\n",
            "135/135 - 13s - loss: 0.0521 - accuracy: 0.9972 - val_loss: 0.1003 - val_accuracy: 0.9792\n",
            "Epoch 46/50\n",
            "135/135 - 13s - loss: 0.0458 - accuracy: 0.9982 - val_loss: 0.1397 - val_accuracy: 0.9583\n",
            "Epoch 47/50\n",
            "135/135 - 13s - loss: 0.0420 - accuracy: 0.9986 - val_loss: 0.0998 - val_accuracy: 0.9792\n",
            "Epoch 48/50\n",
            "135/135 - 13s - loss: 0.0447 - accuracy: 0.9982 - val_loss: 0.0819 - val_accuracy: 0.9792\n",
            "Epoch 49/50\n",
            "135/135 - 13s - loss: 0.0405 - accuracy: 0.9977 - val_loss: 0.1557 - val_accuracy: 0.9792\n",
            "Epoch 50/50\n",
            "135/135 - 13s - loss: 0.0355 - accuracy: 0.9982 - val_loss: 0.0796 - val_accuracy: 1.0000\n"
          ],
          "name": "stdout"
        }
      ]
    },
    {
      "cell_type": "code",
      "metadata": {
        "id": "9iuYsT-Te8mp"
      },
      "source": [
        ""
      ],
      "execution_count": null,
      "outputs": []
    },
    {
      "cell_type": "code",
      "metadata": {
        "colab": {
          "base_uri": "https://localhost:8080/",
          "height": 573
        },
        "id": "1AI5zhQ7oy8P",
        "outputId": "6088e7a0-16c1-4631-c08b-c1e3ca27014b"
      },
      "source": [
        "# summarize history for accuracy\n",
        "plt.plot(history.history['accuracy'])\n",
        "plt.plot(history.history['val_accuracy'])\n",
        "plt.title('model accuracy')\n",
        "plt.ylabel('accuracy')\n",
        "plt.xlabel('epoch')\n",
        "plt.legend(['train', 'valid'], loc='upper left')\n",
        "plt.show()\n",
        "# summarize history for loss\n",
        "plt.plot(history.history['loss'])\n",
        "plt.plot(history.history['val_loss'])\n",
        "plt.title('model loss')\n",
        "plt.ylabel('loss')\n",
        "plt.xlabel('epoch')\n",
        "plt.legend(['train', 'valid'], loc='upper left')\n",
        "plt.show()"
      ],
      "execution_count": null,
      "outputs": [
        {
          "output_type": "display_data",
          "data": {
            "image/png": "[encoded data removed]",
            "text/plain": [
              "<Figure size 432x288 with 1 Axes>"
            ]
          },
          "metadata": {
            "tags": [],
            "needs_background": "light"
          }
        },
        {
          "output_type": "display_data",
          "data": {
            "image/png": "[encoded data removed]",
            "text/plain": [
              "<Figure size 432x288 with 1 Axes>"
            ]
          },
          "metadata": {
            "tags": [],
            "needs_background": "light"
          }
        }
      ]
    },
    {
      "cell_type": "code",
      "metadata": {
        "colab": {
          "base_uri": "https://localhost:8080/"
        },
        "id": "gWTd6ELeoy8h",
        "outputId": "4ff06100-993a-4e50-ae58-5f88d895b592"
      },
      "source": [
        "test_labels = test_batches.classes\n",
        "predictions = RMSmodel.predict_generator(test_batches, steps=5, verbose=0)"
      ],
      "execution_count": null,
      "outputs": [
        {
          "output_type": "stream",
          "text": [
            "/usr/local/lib/python3.7/dist-packages/tensorflow/python/keras/engine/training.py:2001: UserWarning: `Model.predict_generator` is deprecated and will be removed in a future version. Please use `Model.predict`, which supports generators.\n",
            "  warnings.warn('`Model.predict_generator` is deprecated and '\n"
          ],
          "name": "stderr"
        }
      ]
    },
    {
      "cell_type": "code",
      "metadata": {
        "id": "myoqmCucoy8j"
      },
      "source": [
        "cm = confusion_matrix(test_labels, predictions.argmax(axis=1))"
      ],
      "execution_count": null,
      "outputs": []
    },
    {
      "cell_type": "code",
      "metadata": {
        "colab": {
          "base_uri": "https://localhost:8080/"
        },
        "id": "fD4Lh6jyoy8k",
        "outputId": "991828f9-ffff-482e-bc58-16f727caa0ed"
      },
      "source": [
        "test_batches.class_indices"
      ],
      "execution_count": null,
      "outputs": [
        {
          "output_type": "execute_result",
          "data": {
            "text/plain": [
              "{'0': 0,\n",
              " '1': 1,\n",
              " '2': 2,\n",
              " '3': 3,\n",
              " '4': 4,\n",
              " '5': 5,\n",
              " '6': 6,\n",
              " '7': 7,\n",
              " '8': 8,\n",
              " '9': 9}"
            ]
          },
          "metadata": {
            "tags": []
          },
          "execution_count": 61
        }
      ]
    },
    {
      "cell_type": "code",
      "metadata": {
        "colab": {
          "base_uri": "https://localhost:8080/",
          "height": 498
        },
        "id": "H_FE66vzoy8n",
        "outputId": "4d513a43-e1eb-4ea4-d529-208be62a089e"
      },
      "source": [
        "cm_plot_labels = ['0','1','2','3','4','5','6','7','8','9']\n",
        "plot_confusion_matrix(cm, cm_plot_labels, title='confusion matrix')"
      ],
      "execution_count": null,
      "outputs": [
        {
          "output_type": "stream",
          "text": [
            "Confusion matrix, without normalization\n",
            "[[5 0 0 0 0 0 0 0 0 0]\n",
            " [0 5 0 0 0 0 0 0 0 0]\n",
            " [0 0 5 0 0 0 0 0 0 0]\n",
            " [0 0 0 5 0 0 0 0 0 0]\n",
            " [0 0 0 0 5 0 0 0 0 0]\n",
            " [0 0 0 0 0 5 0 0 0 0]\n",
            " [0 0 0 0 0 0 5 0 0 0]\n",
            " [0 0 0 0 0 0 0 5 0 0]\n",
            " [0 0 0 0 0 0 0 1 4 0]\n",
            " [0 0 0 0 0 0 0 0 0 5]]\n"
          ],
          "name": "stdout"
        },
        {
          "output_type": "display_data",
          "data": {
            "image/png": "[encoded data removed]",
            "text/plain": [
              "<Figure size 432x288 with 2 Axes>"
            ]
          },
          "metadata": {
            "tags": [],
            "needs_background": "light"
          }
        }
      ]
    },
    {
      "cell_type": "code",
      "metadata": {
        "id": "mMxzE2XL7OJR"
      },
      "source": [
        "RMSmodel.save('RMS_last.h5')"
      ],
      "execution_count": null,
      "outputs": []
    },
    {
      "cell_type": "markdown",
      "metadata": {
        "id": "FGYv7TP6RkJO"
      },
      "source": [
        "## END"
      ]
    }
  ]
}